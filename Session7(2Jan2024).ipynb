{
 "cells": [
  {
   "cell_type": "markdown",
   "id": "6a7026d1",
   "metadata": {},
   "source": [
    "# Slicing a list \n",
    "     - Copying subset of list members "
   ]
  },
  {
   "cell_type": "code",
   "execution_count": 1,
   "id": "a7eeefce",
   "metadata": {},
   "outputs": [],
   "source": [
    "courses  = ['Python', 'WebDev', 'Graphics', 'MobApp','VideoAnimation', 'Autocad','OfficeAutomation','Ai_Chatbot']\n",
    "  #           0            1      2            3       4                 5           6                 7"
   ]
  },
  {
   "cell_type": "code",
   "execution_count": 2,
   "id": "fe475f82",
   "metadata": {},
   "outputs": [
    {
     "data": {
      "text/plain": [
       "'Autocad'"
      ]
     },
     "execution_count": 2,
     "metadata": {},
     "output_type": "execute_result"
    }
   ],
   "source": [
    "courses[5]"
   ]
  },
  {
   "cell_type": "code",
   "execution_count": 5,
   "id": "599dec4f",
   "metadata": {},
   "outputs": [],
   "source": [
    "course5_6 = courses[5:7]"
   ]
  },
  {
   "cell_type": "code",
   "execution_count": 6,
   "id": "a4268171",
   "metadata": {},
   "outputs": [
    {
     "data": {
      "text/plain": [
       "['Autocad', 'OfficeAutomation']"
      ]
     },
     "execution_count": 6,
     "metadata": {},
     "output_type": "execute_result"
    }
   ],
   "source": [
    "course5_6"
   ]
  },
  {
   "cell_type": "code",
   "execution_count": 7,
   "id": "c2b7e77a",
   "metadata": {},
   "outputs": [
    {
     "data": {
      "text/plain": [
       "['Autocad', 'OfficeAutomation', 'Ai_Chatbot']"
      ]
     },
     "execution_count": 7,
     "metadata": {},
     "output_type": "execute_result"
    }
   ],
   "source": [
    "courses[5:8]"
   ]
  },
  {
   "cell_type": "code",
   "execution_count": 8,
   "id": "c32aae66",
   "metadata": {},
   "outputs": [
    {
     "data": {
      "text/plain": [
       "['Autocad', 'OfficeAutomation']"
      ]
     },
     "execution_count": 8,
     "metadata": {},
     "output_type": "execute_result"
    }
   ],
   "source": [
    "courses[5:-1]"
   ]
  },
  {
   "cell_type": "markdown",
   "id": "383cf985",
   "metadata": {},
   "source": [
    "# course [start: end+1:step]"
   ]
  },
  {
   "cell_type": "code",
   "execution_count": 9,
   "id": "9cebc059",
   "metadata": {},
   "outputs": [],
   "source": [
    "numbers = [1,2,3,4,5,6,7,8,9,10,11,12,13,14,15,16,17,18,19,20]"
   ]
  },
  {
   "cell_type": "code",
   "execution_count": 17,
   "id": "a016db9c",
   "metadata": {},
   "outputs": [],
   "source": [
    "numbers = list(range(0,21))"
   ]
  },
  {
   "cell_type": "code",
   "execution_count": 18,
   "id": "0b757715",
   "metadata": {},
   "outputs": [
    {
     "data": {
      "text/plain": [
       "[0, 1, 2, 3, 4, 5, 6, 7, 8, 9, 10, 11, 12, 13, 14, 15, 16, 17, 18, 19, 20]"
      ]
     },
     "execution_count": 18,
     "metadata": {},
     "output_type": "execute_result"
    }
   ],
   "source": [
    "numbers"
   ]
  },
  {
   "cell_type": "code",
   "execution_count": 19,
   "id": "9e1adc61",
   "metadata": {},
   "outputs": [
    {
     "data": {
      "text/plain": [
       "[4, 5, 6, 7]"
      ]
     },
     "execution_count": 19,
     "metadata": {},
     "output_type": "execute_result"
    }
   ],
   "source": [
    "numbers[4:8]"
   ]
  },
  {
   "cell_type": "code",
   "execution_count": 20,
   "id": "6d023466",
   "metadata": {},
   "outputs": [
    {
     "data": {
      "text/plain": [
       "[2, 3, 4, 5, 6, 7, 8, 9, 10, 11]"
      ]
     },
     "execution_count": 20,
     "metadata": {},
     "output_type": "execute_result"
    }
   ],
   "source": [
    "numbers[2:12:1]"
   ]
  },
  {
   "cell_type": "code",
   "execution_count": 21,
   "id": "d3012374",
   "metadata": {},
   "outputs": [
    {
     "data": {
      "text/plain": [
       "[2, 4, 6, 8, 10]"
      ]
     },
     "execution_count": 21,
     "metadata": {},
     "output_type": "execute_result"
    }
   ],
   "source": [
    "numbers[2:12:2]"
   ]
  },
  {
   "cell_type": "code",
   "execution_count": 23,
   "id": "fcc2332a",
   "metadata": {},
   "outputs": [
    {
     "data": {
      "text/plain": [
       "[10, 9, 8, 7, 6, 5]"
      ]
     },
     "execution_count": 23,
     "metadata": {},
     "output_type": "execute_result"
    }
   ],
   "source": [
    "numbers[10:4:-1]"
   ]
  },
  {
   "cell_type": "code",
   "execution_count": 24,
   "id": "fad4c21c",
   "metadata": {},
   "outputs": [
    {
     "data": {
      "text/plain": [
       "[0, 1, 2, 3, 4, 5, 6, 7, 8, 9, 10, 11, 12, 13, 14, 15, 16, 17, 18, 19, 20]"
      ]
     },
     "execution_count": 24,
     "metadata": {},
     "output_type": "execute_result"
    }
   ],
   "source": [
    "numbers"
   ]
  },
  {
   "cell_type": "code",
   "execution_count": 25,
   "id": "0726a443",
   "metadata": {},
   "outputs": [
    {
     "data": {
      "text/plain": [
       "[4, 5, 6, 7, 8, 9, 10, 11, 12, 13, 14, 15, 16]"
      ]
     },
     "execution_count": 25,
     "metadata": {},
     "output_type": "execute_result"
    }
   ],
   "source": [
    "numbers[-17:-4]"
   ]
  },
  {
   "cell_type": "code",
   "execution_count": 26,
   "id": "3c41becc",
   "metadata": {},
   "outputs": [
    {
     "data": {
      "text/plain": [
       "[]"
      ]
     },
     "execution_count": 26,
     "metadata": {},
     "output_type": "execute_result"
    }
   ],
   "source": [
    "numbers[-17:-4:-1]"
   ]
  },
  {
   "cell_type": "code",
   "execution_count": 27,
   "id": "9d2964a9",
   "metadata": {},
   "outputs": [
    {
     "data": {
      "text/plain": [
       "[10]"
      ]
     },
     "execution_count": 27,
     "metadata": {},
     "output_type": "execute_result"
    }
   ],
   "source": [
    "numbers[10:-10]"
   ]
  },
  {
   "cell_type": "code",
   "execution_count": 29,
   "id": "d5bcafa8",
   "metadata": {},
   "outputs": [
    {
     "data": {
      "text/plain": [
       "[]"
      ]
     },
     "execution_count": 29,
     "metadata": {},
     "output_type": "execute_result"
    }
   ],
   "source": [
    "numbers[10:-11]"
   ]
  },
  {
   "cell_type": "code",
   "execution_count": 30,
   "id": "4574bc1e",
   "metadata": {},
   "outputs": [
    {
     "data": {
      "text/plain": [
       "[]"
      ]
     },
     "execution_count": 30,
     "metadata": {},
     "output_type": "execute_result"
    }
   ],
   "source": [
    "numbers[5:-3:-1]"
   ]
  },
  {
   "cell_type": "code",
   "execution_count": 33,
   "id": "433fc1a7",
   "metadata": {},
   "outputs": [
    {
     "data": {
      "text/plain": [
       "[3, 4, 5, 6, 7, 8, 9, 10, 11, 12, 13, 14, 15, 16, 17, 18, 19, 20]"
      ]
     },
     "execution_count": 33,
     "metadata": {},
     "output_type": "execute_result"
    }
   ],
   "source": [
    "numbers[3::]"
   ]
  },
  {
   "cell_type": "code",
   "execution_count": 34,
   "id": "55579b5a",
   "metadata": {},
   "outputs": [
    {
     "data": {
      "text/plain": [
       "[0, 1, 2, 3, 4, 5, 6, 7, 8]"
      ]
     },
     "execution_count": 34,
     "metadata": {},
     "output_type": "execute_result"
    }
   ],
   "source": [
    "numbers[:9]"
   ]
  },
  {
   "cell_type": "code",
   "execution_count": 35,
   "id": "80a74d83",
   "metadata": {},
   "outputs": [
    {
     "data": {
      "text/plain": [
       "[0, 1, 2, 3, 4, 5, 6, 7, 8, 9, 10, 11, 12, 13, 14, 15, 16, 17, 18, 19, 20]"
      ]
     },
     "execution_count": 35,
     "metadata": {},
     "output_type": "execute_result"
    }
   ],
   "source": [
    "numbers[:]"
   ]
  },
  {
   "cell_type": "code",
   "execution_count": 36,
   "id": "4e07943d",
   "metadata": {},
   "outputs": [
    {
     "data": {
      "text/plain": [
       "[0, 3, 6, 9, 12, 15, 18]"
      ]
     },
     "execution_count": 36,
     "metadata": {},
     "output_type": "execute_result"
    }
   ],
   "source": [
    "numbers[::3]"
   ]
  },
  {
   "cell_type": "markdown",
   "id": "bf34fcaa",
   "metadata": {},
   "source": [
    "# Tuple\n",
    " # - ()\n",
    " # immutable"
   ]
  },
  {
   "cell_type": "code",
   "execution_count": 39,
   "id": "78cc984a",
   "metadata": {},
   "outputs": [],
   "source": [
    "courses  = (tuple(courses))"
   ]
  },
  {
   "cell_type": "code",
   "execution_count": 42,
   "id": "3c2e523b",
   "metadata": {},
   "outputs": [
    {
     "name": "stdout",
     "output_type": "stream",
     "text": [
      "('Python', 'WebDev', 'Graphics', 'MobApp', 'VideoAnimation', 'Autocad', 'OfficeAutomation', 'Ai_Chatbot')\n"
     ]
    }
   ],
   "source": [
    "print(courses)"
   ]
  },
  {
   "cell_type": "code",
   "execution_count": 43,
   "id": "a0e07b83",
   "metadata": {},
   "outputs": [
    {
     "data": {
      "text/plain": [
       "'Python'"
      ]
     },
     "execution_count": 43,
     "metadata": {},
     "output_type": "execute_result"
    }
   ],
   "source": [
    "courses[0]"
   ]
  },
  {
   "cell_type": "code",
   "execution_count": 44,
   "id": "d33cf346",
   "metadata": {},
   "outputs": [
    {
     "data": {
      "text/plain": [
       "('MobApp', 'VideoAnimation', 'Autocad')"
      ]
     },
     "execution_count": 44,
     "metadata": {},
     "output_type": "execute_result"
    }
   ],
   "source": [
    "courses[3:6]"
   ]
  },
  {
   "cell_type": "code",
   "execution_count": 45,
   "id": "4dc5e8d3",
   "metadata": {},
   "outputs": [
    {
     "ename": "TypeError",
     "evalue": "'tuple' object does not support item assignment",
     "output_type": "error",
     "traceback": [
      "\u001b[1;31m---------------------------------------------------------------------------\u001b[0m",
      "\u001b[1;31mTypeError\u001b[0m                                 Traceback (most recent call last)",
      "Cell \u001b[1;32mIn[45], line 1\u001b[0m\n\u001b[1;32m----> 1\u001b[0m courses[\u001b[38;5;241m5\u001b[39m] \u001b[38;5;241m=\u001b[39m \u001b[38;5;124m'\u001b[39m\u001b[38;5;124mLaptop Repair\u001b[39m\u001b[38;5;124m'\u001b[39m\n",
      "\u001b[1;31mTypeError\u001b[0m: 'tuple' object does not support item assignment"
     ]
    }
   ],
   "source": [
    "courses[5] = 'Laptop Repair'"
   ]
  },
  {
   "cell_type": "markdown",
   "id": "4339bbbb",
   "metadata": {},
   "source": [
    "# Dictionary\n",
    "    - {}\n",
    "    - {key:value}\n",
    "    - no index\n",
    "    \n",
    "   "
   ]
  },
  {
   "cell_type": "code",
   "execution_count": 46,
   "id": "12df274b",
   "metadata": {},
   "outputs": [],
   "source": [
    "student1 = {'name':'Ali','age':15, 'height':'5ft', 'weight':55.8}"
   ]
  },
  {
   "cell_type": "code",
   "execution_count": 47,
   "id": "d27151a1",
   "metadata": {},
   "outputs": [
    {
     "data": {
      "text/plain": [
       "{'name': 'Ali', 'age': 15, 'height': '5ft', 'weight': 55.8}"
      ]
     },
     "execution_count": 47,
     "metadata": {},
     "output_type": "execute_result"
    }
   ],
   "source": [
    "student1"
   ]
  },
  {
   "cell_type": "code",
   "execution_count": 48,
   "id": "8fc2ca2a",
   "metadata": {},
   "outputs": [
    {
     "data": {
      "text/plain": [
       "'Ali'"
      ]
     },
     "execution_count": 48,
     "metadata": {},
     "output_type": "execute_result"
    }
   ],
   "source": [
    "student1['name']"
   ]
  },
  {
   "cell_type": "code",
   "execution_count": 49,
   "id": "16237980",
   "metadata": {},
   "outputs": [
    {
     "data": {
      "text/plain": [
       "55.8"
      ]
     },
     "execution_count": 49,
     "metadata": {},
     "output_type": "execute_result"
    }
   ],
   "source": [
    "student1['weight']"
   ]
  },
  {
   "cell_type": "code",
   "execution_count": 51,
   "id": "06e87d2b",
   "metadata": {},
   "outputs": [],
   "source": [
    "squares= {1:1, 2:4,3:9,4:16,5:25,6:36}"
   ]
  },
  {
   "cell_type": "code",
   "execution_count": 53,
   "id": "16aadedc",
   "metadata": {},
   "outputs": [
    {
     "data": {
      "text/plain": [
       "25"
      ]
     },
     "execution_count": 53,
     "metadata": {},
     "output_type": "execute_result"
    }
   ],
   "source": [
    "squares[5]"
   ]
  },
  {
   "cell_type": "code",
   "execution_count": 54,
   "id": "98d95e06",
   "metadata": {},
   "outputs": [
    {
     "data": {
      "text/plain": [
       "dict_keys(['name', 'age', 'height', 'weight'])"
      ]
     },
     "execution_count": 54,
     "metadata": {},
     "output_type": "execute_result"
    }
   ],
   "source": [
    "student1.keys()"
   ]
  },
  {
   "cell_type": "code",
   "execution_count": 55,
   "id": "ffc0ce00",
   "metadata": {},
   "outputs": [
    {
     "data": {
      "text/plain": [
       "dict_values(['Ali', 15, '5ft', 55.8])"
      ]
     },
     "execution_count": 55,
     "metadata": {},
     "output_type": "execute_result"
    }
   ],
   "source": [
    "student1.values()"
   ]
  },
  {
   "cell_type": "code",
   "execution_count": 57,
   "id": "357fe76e",
   "metadata": {},
   "outputs": [
    {
     "data": {
      "text/plain": [
       "dict_items([('name', 'Ali'), ('age', 15), ('height', '5ft'), ('weight', 55.8)])"
      ]
     },
     "execution_count": 57,
     "metadata": {},
     "output_type": "execute_result"
    }
   ],
   "source": [
    "student1.items()"
   ]
  },
  {
   "cell_type": "code",
   "execution_count": 58,
   "id": "0e89b28a",
   "metadata": {},
   "outputs": [],
   "source": [
    "student1['Married'] = True"
   ]
  },
  {
   "cell_type": "code",
   "execution_count": 59,
   "id": "a961cfd6",
   "metadata": {},
   "outputs": [
    {
     "data": {
      "text/plain": [
       "{'name': 'Ali', 'age': 15, 'height': '5ft', 'weight': 55.8, 'Married': True}"
      ]
     },
     "execution_count": 59,
     "metadata": {},
     "output_type": "execute_result"
    }
   ],
   "source": [
    "student1"
   ]
  },
  {
   "cell_type": "code",
   "execution_count": 60,
   "id": "f448708b",
   "metadata": {},
   "outputs": [],
   "source": [
    "del student1['age']"
   ]
  },
  {
   "cell_type": "code",
   "execution_count": 61,
   "id": "5f0c697a",
   "metadata": {},
   "outputs": [
    {
     "data": {
      "text/plain": [
       "{'name': 'Ali', 'height': '5ft', 'weight': 55.8, 'Married': True}"
      ]
     },
     "execution_count": 61,
     "metadata": {},
     "output_type": "execute_result"
    }
   ],
   "source": [
    "student1"
   ]
  },
  {
   "cell_type": "code",
   "execution_count": 62,
   "id": "4ffe6592",
   "metadata": {},
   "outputs": [
    {
     "data": {
      "text/plain": [
       "(55.8, 55.8)"
      ]
     },
     "execution_count": 62,
     "metadata": {},
     "output_type": "execute_result"
    }
   ],
   "source": [
    "student1['weight'], student1.get('weight')"
   ]
  },
  {
   "cell_type": "code",
   "execution_count": 64,
   "id": "76792413",
   "metadata": {},
   "outputs": [
    {
     "data": {
      "text/plain": [
       "55.8"
      ]
     },
     "execution_count": 64,
     "metadata": {},
     "output_type": "execute_result"
    }
   ],
   "source": [
    "student1.pop('weight')"
   ]
  },
  {
   "cell_type": "code",
   "execution_count": 65,
   "id": "eb392332",
   "metadata": {},
   "outputs": [
    {
     "data": {
      "text/plain": [
       "{'name': 'Ali', 'height': '5ft', 'Married': True}"
      ]
     },
     "execution_count": 65,
     "metadata": {},
     "output_type": "execute_result"
    }
   ],
   "source": [
    "student1"
   ]
  },
  {
   "cell_type": "code",
   "execution_count": 66,
   "id": "de13d14a",
   "metadata": {},
   "outputs": [
    {
     "data": {
      "text/plain": [
       "('Married', True)"
      ]
     },
     "execution_count": 66,
     "metadata": {},
     "output_type": "execute_result"
    }
   ],
   "source": [
    "student1.popitem()"
   ]
  },
  {
   "cell_type": "code",
   "execution_count": 67,
   "id": "fd305d83",
   "metadata": {},
   "outputs": [],
   "source": [
    "student1_family = {'abu':'Babar Azam', 'ami':'Hania Aamir', 'Brother':'Altaf', 'Sister':'MaryamNawaz'}"
   ]
  },
  {
   "cell_type": "code",
   "execution_count": 68,
   "id": "ed9d9209",
   "metadata": {},
   "outputs": [],
   "source": [
    "student1['family'] = student1_family"
   ]
  },
  {
   "cell_type": "code",
   "execution_count": 69,
   "id": "2225252b",
   "metadata": {},
   "outputs": [
    {
     "data": {
      "text/plain": [
       "{'name': 'Ali',\n",
       " 'height': '5ft',\n",
       " 'family': {'abu': 'Babar Azam',\n",
       "  'ami': 'Hania Aamir',\n",
       "  'Brother': 'Altaf',\n",
       "  'Sister': 'MaryamNawaz'}}"
      ]
     },
     "execution_count": 69,
     "metadata": {},
     "output_type": "execute_result"
    }
   ],
   "source": [
    "student1"
   ]
  },
  {
   "cell_type": "code",
   "execution_count": 70,
   "id": "9c728195",
   "metadata": {},
   "outputs": [],
   "source": [
    "student1.update(student1_family)"
   ]
  },
  {
   "cell_type": "code",
   "execution_count": 71,
   "id": "84baeb26",
   "metadata": {},
   "outputs": [
    {
     "data": {
      "text/plain": [
       "{'name': 'Ali',\n",
       " 'height': '5ft',\n",
       " 'family': {'abu': 'Babar Azam',\n",
       "  'ami': 'Hania Aamir',\n",
       "  'Brother': 'Altaf',\n",
       "  'Sister': 'MaryamNawaz'},\n",
       " 'abu': 'Babar Azam',\n",
       " 'ami': 'Hania Aamir',\n",
       " 'Brother': 'Altaf',\n",
       " 'Sister': 'MaryamNawaz'}"
      ]
     },
     "execution_count": 71,
     "metadata": {},
     "output_type": "execute_result"
    }
   ],
   "source": [
    "student1"
   ]
  },
  {
   "cell_type": "markdown",
   "id": "9cb19c3b",
   "metadata": {},
   "source": [
    "# Set\n",
    "       # {}"
   ]
  },
  {
   "cell_type": "code",
   "execution_count": 73,
   "id": "8e41ade1",
   "metadata": {},
   "outputs": [],
   "source": [
    "friends = {}"
   ]
  },
  {
   "cell_type": "code",
   "execution_count": 74,
   "id": "d65917e3",
   "metadata": {},
   "outputs": [
    {
     "data": {
      "text/plain": [
       "dict"
      ]
     },
     "execution_count": 74,
     "metadata": {},
     "output_type": "execute_result"
    }
   ],
   "source": [
    "type(friends)"
   ]
  },
  {
   "cell_type": "code",
   "execution_count": 77,
   "id": "c4451dfb",
   "metadata": {},
   "outputs": [],
   "source": [
    "friends={'ali', 'nasir','ahmed', 'ali'}"
   ]
  },
  {
   "cell_type": "code",
   "execution_count": 78,
   "id": "86fe6fb0",
   "metadata": {},
   "outputs": [
    {
     "data": {
      "text/plain": [
       "set"
      ]
     },
     "execution_count": 78,
     "metadata": {},
     "output_type": "execute_result"
    }
   ],
   "source": [
    "type(friends)"
   ]
  },
  {
   "cell_type": "code",
   "execution_count": 79,
   "id": "8629dcca",
   "metadata": {},
   "outputs": [
    {
     "data": {
      "text/plain": [
       "{'ahmed', 'ali', 'nasir'}"
      ]
     },
     "execution_count": 79,
     "metadata": {},
     "output_type": "execute_result"
    }
   ],
   "source": [
    "friends"
   ]
  },
  {
   "cell_type": "code",
   "execution_count": 80,
   "id": "8194df10",
   "metadata": {},
   "outputs": [],
   "source": [
    "aset = {67,1,78,2,3,3,4,1,12}"
   ]
  },
  {
   "cell_type": "code",
   "execution_count": 81,
   "id": "5af16208",
   "metadata": {},
   "outputs": [
    {
     "data": {
      "text/plain": [
       "{1, 2, 3, 4, 12, 67, 78}"
      ]
     },
     "execution_count": 81,
     "metadata": {},
     "output_type": "execute_result"
    }
   ],
   "source": [
    "aset"
   ]
  },
  {
   "cell_type": "code",
   "execution_count": 85,
   "id": "3272d127",
   "metadata": {},
   "outputs": [
    {
     "name": "stdout",
     "output_type": "stream",
     "text": [
      "Ali\n",
      "Ali\n",
      "Ali\n",
      "Ali\n",
      "Ali\n",
      "Ali\n",
      "Ali\n",
      "Ali\n",
      "Ali\n",
      "Ali\n"
     ]
    }
   ],
   "source": [
    "# print your name 20000times \n",
    "\n",
    "print('Ali')\n",
    "print('Ali')\n",
    "print('Ali') \n",
    "print('Ali')\n",
    "print('Ali')\n",
    "print('Ali')\n",
    "print('Ali')\n",
    "print('Ali')\n",
    "print('Ali')\n",
    "print('Ali')\n",
    "print('Ali')\n",
    "print('Ali')\n",
    "print('Ali')\n",
    "print('Ali')\n",
    "print('Ali')\n",
    "print('Ali')\n",
    "print('Ali')\n",
    "print('Ali')\n",
    "print('Ali')\n",
    "print('Ali')"
   ]
  },
  {
   "cell_type": "markdown",
   "id": "d6f38316",
   "metadata": {},
   "source": [
    "# Loops: For in , While "
   ]
  },
  {
   "cell_type": "code",
   "execution_count": 90,
   "id": "5e3544b8",
   "metadata": {},
   "outputs": [
    {
     "name": "stdout",
     "output_type": "stream",
     "text": [
      "0 Ali\n",
      "1 Ali\n",
      "2 Ali\n",
      "3 Ali\n",
      "4 Ali\n",
      "5 Ali\n",
      "6 Ali\n",
      "7 Ali\n",
      "8 Ali\n",
      "9 Ali\n"
     ]
    }
   ],
   "source": [
    "for a in range(10):\n",
    "    print(a, 'Ali')"
   ]
  },
  {
   "cell_type": "code",
   "execution_count": 91,
   "id": "5768cc21",
   "metadata": {},
   "outputs": [
    {
     "name": "stdout",
     "output_type": "stream",
     "text": [
      "1\n",
      "2\n",
      "3\n",
      "4\n",
      "5\n",
      "6\n",
      "7\n",
      "8\n",
      "9\n"
     ]
    }
   ],
   "source": [
    "for a in range(1,10):\n",
    "    print(a)"
   ]
  },
  {
   "cell_type": "code",
   "execution_count": 93,
   "id": "a56f07b1",
   "metadata": {},
   "outputs": [
    {
     "name": "stdout",
     "output_type": "stream",
     "text": [
      "1\n",
      "3\n",
      "5\n",
      "7\n",
      "9\n"
     ]
    }
   ],
   "source": [
    "for a in range(1,10,2):\n",
    "    print(a)"
   ]
  },
  {
   "cell_type": "code",
   "execution_count": 95,
   "id": "31ffacdd",
   "metadata": {},
   "outputs": [
    {
     "name": "stdout",
     "output_type": "stream",
     "text": [
      "10\n",
      "9\n",
      "8\n",
      "7\n",
      "6\n",
      "5\n",
      "4\n",
      "3\n",
      "2\n"
     ]
    }
   ],
   "source": [
    "for a in range(10,1,-1):\n",
    "    print(a)"
   ]
  },
  {
   "cell_type": "code",
   "execution_count": 96,
   "id": "79efd588",
   "metadata": {},
   "outputs": [
    {
     "name": "stdout",
     "output_type": "stream",
     "text": [
      "H\n",
      "e\n",
      "l\n",
      "l\n",
      "o\n"
     ]
    }
   ],
   "source": [
    "for a in \"Hello\":\n",
    "    print(a)"
   ]
  },
  {
   "cell_type": "code",
   "execution_count": 97,
   "id": "649666b6",
   "metadata": {},
   "outputs": [],
   "source": [
    "courses  = ['Python', 'WebDev', 'Graphics', 'MobApp','VideoAnimation', 'Autocad','OfficeAutomation','Ai_Chatbot']\n",
    "  #           0            1      2            3       4                 5           6   "
   ]
  },
  {
   "cell_type": "code",
   "execution_count": 103,
   "id": "19f7c7d0",
   "metadata": {},
   "outputs": [
    {
     "name": "stdout",
     "output_type": "stream",
     "text": [
      "We are ofefering Python course \n",
      "We are ofefering WebDev course \n",
      "We are ofefering Graphics course \n",
      "We are ofefering MobApp course \n",
      "We are ofefering VideoAnimation course \n",
      "We are ofefering Autocad course \n",
      "We are ofefering OfficeAutomation course \n",
      "We are ofefering Ai_Chatbot course \n"
     ]
    }
   ],
   "source": [
    "for course in courses:\n",
    "    print(f\"We are ofefering {course} course \")"
   ]
  },
  {
   "cell_type": "code",
   "execution_count": 106,
   "id": "4b1edb5d",
   "metadata": {},
   "outputs": [
    {
     "name": "stdout",
     "output_type": "stream",
     "text": [
      "0>> Python course \n",
      "1>> WebDev course \n",
      "2>> Graphics course \n",
      "3>> MobApp course \n",
      "4>> VideoAnimation course \n",
      "5>> Autocad course \n",
      "6>> OfficeAutomation course \n",
      "7>> Ai_Chatbot course \n"
     ]
    }
   ],
   "source": [
    "for a, course in enumerate(courses):\n",
    "    print(f\"{a }>> {course} course \")"
   ]
  },
  {
   "cell_type": "code",
   "execution_count": null,
   "id": "4b12fcca",
   "metadata": {},
   "outputs": [],
   "source": []
  }
 ],
 "metadata": {
  "kernelspec": {
   "display_name": "Python 3 (ipykernel)",
   "language": "python",
   "name": "python3"
  },
  "language_info": {
   "codemirror_mode": {
    "name": "ipython",
    "version": 3
   },
   "file_extension": ".py",
   "mimetype": "text/x-python",
   "name": "python",
   "nbconvert_exporter": "python",
   "pygments_lexer": "ipython3",
   "version": "3.11.5"
  }
 },
 "nbformat": 4,
 "nbformat_minor": 5
}
