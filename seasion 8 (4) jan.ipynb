{
 "cells": [
  {
   "cell_type": "code",
   "execution_count": 1,
   "id": "f96c13b3",
   "metadata": {},
   "outputs": [
    {
     "name": "stdout",
     "output_type": "stream",
     "text": [
      "1\n",
      "4\n",
      "9\n",
      "16\n"
     ]
    }
   ],
   "source": [
    "for value in [1,2,3,4]:\n",
    "    print(value**2)\n",
    "    "
   ]
  },
  {
   "cell_type": "code",
   "execution_count": 15,
   "id": "3970e1fd",
   "metadata": {},
   "outputs": [
    {
     "name": "stdout",
     "output_type": "stream",
     "text": [
      "Ali\n",
      "Ahmed\n",
      "Aslam\n",
      "Asif\n"
     ]
    }
   ],
   "source": [
    "guests = ['phuppo','imran','Ali','khala','nasir','umer','shaboo','Ahmed','Aslam','Asif','obaid']\n",
    "for guest in guests:\n",
    "    if guest.startswith('A'):\n",
    "        print(guest)"
   ]
  },
  {
   "cell_type": "code",
   "execution_count": 16,
   "id": "c71b7239",
   "metadata": {},
   "outputs": [
    {
     "name": "stdout",
     "output_type": "stream",
     "text": [
      "imran\n",
      "Ali\n",
      "khala\n",
      "nasir\n",
      "umer\n",
      "Ahmed\n",
      "Aslam\n",
      "Asif\n",
      "obaid\n"
     ]
    }
   ],
   "source": [
    "for guest in guests:\n",
    "    if len(guest)<=5:\n",
    "        print(guest)"
   ]
  },
  {
   "cell_type": "code",
   "execution_count": 18,
   "id": "c1d9621a",
   "metadata": {},
   "outputs": [
    {
     "name": "stdout",
     "output_type": "stream",
     "text": [
      "imran you are invited\n",
      "Ali you are invited\n",
      "khala you are invited\n",
      "nasir you are invited\n",
      "umer you are invited\n",
      "Ahmed you are invited\n",
      "Aslam you are invited\n",
      "Asif you are invited\n",
      "obaid you are invited\n"
     ]
    }
   ],
   "source": [
    "for guest in guests:\n",
    "    if len(guest)<=5:\n",
    "        print(f\"{guest} you are invited\")\n",
    "    elif guest.startswith('A'):\n",
    "        print(f\"{guest} you are invited\")"
   ]
  },
  {
   "cell_type": "markdown",
   "id": "6ffed3cf",
   "metadata": {},
   "source": [
    "### multiple ifs>>>>>>>>>or\n",
    "nested ifs>>>>>>>>>> and"
   ]
  },
  {
   "cell_type": "markdown",
   "id": "f1354877",
   "metadata": {},
   "source": [
    "# logical operator \n",
    "- or , and , not"
   ]
  },
  {
   "cell_type": "code",
   "execution_count": 20,
   "id": "58417ac1",
   "metadata": {},
   "outputs": [
    {
     "data": {
      "text/plain": [
       "True"
      ]
     },
     "execution_count": 20,
     "metadata": {},
     "output_type": "execute_result"
    }
   ],
   "source": [
    "12>20 or 20>40 or 40>100 or 100<200"
   ]
  },
  {
   "cell_type": "code",
   "execution_count": 21,
   "id": "6c82db19",
   "metadata": {},
   "outputs": [
    {
     "data": {
      "text/plain": [
       "50"
      ]
     },
     "execution_count": 21,
     "metadata": {},
     "output_type": "execute_result"
    }
   ],
   "source": [
    "5 and 10 and 52 and 50"
   ]
  },
  {
   "cell_type": "code",
   "execution_count": null,
   "id": "92724579",
   "metadata": {},
   "outputs": [],
   "source": []
  }
 ],
 "metadata": {
  "kernelspec": {
   "display_name": "Python 3 (ipykernel)",
   "language": "python",
   "name": "python3"
  },
  "language_info": {
   "codemirror_mode": {
    "name": "ipython",
    "version": 3
   },
   "file_extension": ".py",
   "mimetype": "text/x-python",
   "name": "python",
   "nbconvert_exporter": "python",
   "pygments_lexer": "ipython3",
   "version": "3.11.5"
  }
 },
 "nbformat": 4,
 "nbformat_minor": 5
}
