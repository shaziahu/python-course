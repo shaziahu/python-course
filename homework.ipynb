{
 "cells": [
  {
   "cell_type": "code",
   "execution_count": null,
   "id": "01e9c52b",
   "metadata": {},
   "outputs": [],
   "source": [
    "1) A company decided to give bonus of 5% to employee if his/her year of service is more than 5 years. Ask user for their salary and year of service and print the net bonus amount. \n"
   ]
  },
  {
   "cell_type": "code",
   "execution_count": 2,
   "id": "1b85306a",
   "metadata": {},
   "outputs": [
    {
     "name": "stdout",
     "output_type": "stream",
     "text": [
      "Enter your salary: 50000\n",
      "Enter the number of years you've been with the company: 10\n",
      "Congratulations! Your bonus amount is $2500.00\n"
     ]
    }
   ],
   "source": [
    "# Taking user input for salary and years of service\n",
    "salary = float(input(\"Enter your salary: \"))\n",
    "years_of_service = int(input(\"Enter the number of years you've been with the company: \"))\n",
    "\n",
    "# Checking if the years of service are more than 5 to apply the bonus\n",
    "if years_of_service > 5:\n",
    "    bonus = 0.05 * salary  # Calculating bonus (5% of the salary)\n",
    "    print(f\"Congratulations! Your bonus amount is ${bonus:.2f}\")\n",
    "else:\n",
    "    print(\"Sorry, you are not eligible for a bonus.\")\n"
   ]
  },
  {
   "cell_type": "code",
   "execution_count": null,
   "id": "870b00c3",
   "metadata": {},
   "outputs": [],
   "source": [
    "Write a program to check whether a person is eligible for voting or not. (accept age from user) if age is greater than 17 eligible otherwise not eligible "
   ]
  },
  {
   "cell_type": "code",
   "execution_count": 4,
   "id": "c9f5289e",
   "metadata": {},
   "outputs": [
    {
     "name": "stdout",
     "output_type": "stream",
     "text": [
      "Enter your age: 10\n",
      "Sorry, you are not eligible to vote.\n"
     ]
    }
   ],
   "source": [
    "# Taking user input for age\n",
    "age = int(input(\"Enter your age: \"))\n",
    "\n",
    "# Checking if the age is greater than 17 to determine eligibility\n",
    "if age > 17:\n",
    "    print(\"You are eligible to vote!\")\n",
    "else:\n",
    "    print(\"Sorry, you are not eligible to vote.\")\n"
   ]
  },
  {
   "cell_type": "code",
   "execution_count": null,
   "id": "7863f4b0",
   "metadata": {},
   "outputs": [],
   "source": [
    " Write a program to check whether a number entered by user is even or odd. \n"
   ]
  },
  {
   "cell_type": "code",
   "execution_count": 7,
   "id": "20198bd0",
   "metadata": {},
   "outputs": [
    {
     "name": "stdout",
     "output_type": "stream",
     "text": [
      "Enter a number: 3\n",
      "3 is an odd number.\n"
     ]
    }
   ],
   "source": [
    "# Taking user input for a number\n",
    "number = int(input(\"Enter a number: \"))\n",
    "\n",
    "# Checking if the number is divisible by 2 to determine if it's even or odd\n",
    "if number % 2 == 0:\n",
    "    print(f\"{number} is an even number.\")\n",
    "else:\n",
    "    print(f\"{number} is an odd number.\")\n"
   ]
  },
  {
   "cell_type": "code",
   "execution_count": null,
   "id": "135ff648",
   "metadata": {},
   "outputs": [],
   "source": [
    "Write a program to check whether a number is divisible by 7 or not. Show Answer "
   ]
  },
  {
   "cell_type": "code",
   "execution_count": 8,
   "id": "1e53cf39",
   "metadata": {},
   "outputs": [
    {
     "name": "stdout",
     "output_type": "stream",
     "text": [
      "Enter a number: 45\n",
      "45 is not divisible by 7.\n"
     ]
    }
   ],
   "source": [
    "# Taking user input for a number\n",
    "number = int(input(\"Enter a number: \"))\n",
    "\n",
    "# Checking if the number is divisible by 7\n",
    "if number % 7 == 0:\n",
    "    print(f\"{number} is divisible by 7.\")\n",
    "else:\n",
    "    print(f\"{number} is not divisible by 7.\")\n"
   ]
  },
  {
   "cell_type": "code",
   "execution_count": null,
   "id": "3c359e03",
   "metadata": {},
   "outputs": [],
   "source": [
    " Write a program to display \"Hello\" if a number entered by user is a multiple of five , otherwise print \"Bye\". \n"
   ]
  },
  {
   "cell_type": "code",
   "execution_count": 10,
   "id": "f7d70709",
   "metadata": {},
   "outputs": [
    {
     "name": "stdout",
     "output_type": "stream",
     "text": [
      "Enter a number: 4\n",
      "Bye\n"
     ]
    }
   ],
   "source": [
    "# Taking user input for a number\n",
    "number = int(input(\"Enter a number: \"))\n",
    "\n",
    "# Checking if the number is a multiple of five\n",
    "if number % 5 == 0:\n",
    "    print(\"Hello\")\n",
    "else:\n",
    "    print(\"Bye\")\n"
   ]
  },
  {
   "cell_type": "code",
   "execution_count": null,
   "id": "889a1629",
   "metadata": {},
   "outputs": [],
   "source": [
    " Write a program to display the last digit of a number."
   ]
  },
  {
   "cell_type": "code",
   "execution_count": 11,
   "id": "c4b9019a",
   "metadata": {},
   "outputs": [
    {
     "name": "stdout",
     "output_type": "stream",
     "text": [
      "Enter a number: 13\n",
      "The last digit of 13 is: 3\n"
     ]
    }
   ],
   "source": [
    "# Taking user input for a number\n",
    "number = int(input(\"Enter a number: \"))\n",
    "\n",
    "# Getting the last digit of the number\n",
    "last_digit = number % 10\n",
    "\n",
    "print(f\"The last digit of {number} is: {last_digit}\")\n"
   ]
  },
  {
   "cell_type": "code",
   "execution_count": null,
   "id": "75a43682",
   "metadata": {},
   "outputs": [],
   "source": [
    " Write a program to check whether the last digit of a number( entered by user ) is divisible by 3 or not. "
   ]
  },
  {
   "cell_type": "code",
   "execution_count": 12,
   "id": "e37d98c9",
   "metadata": {},
   "outputs": [
    {
     "name": "stdout",
     "output_type": "stream",
     "text": [
      "Enter a number: 66\n",
      "The last digit of 66 (6) is divisible by 3.\n"
     ]
    }
   ],
   "source": [
    "# Taking user input for a number\n",
    "number = int(input(\"Enter a number: \"))\n",
    "\n",
    "# Getting the last digit of the number\n",
    "last_digit = number % 10\n",
    "\n",
    "# Checking if the last digit is divisible by 3\n",
    "if last_digit % 3 == 0:\n",
    "    print(f\"The last digit of {number} ({last_digit}) is divisible by 3.\")\n",
    "else:\n",
    "    print(f\"The last digit of {number} ({last_digit}) is not divisible by 3.\")\n"
   ]
  },
  {
   "cell_type": "code",
   "execution_count": null,
   "id": "b0e023ae",
   "metadata": {},
   "outputs": [],
   "source": [
    " Take values of length and breadth of a rectangle from user and print if it is square or rectangle. \n"
   ]
  },
  {
   "cell_type": "code",
   "execution_count": 13,
   "id": "aa8bcf07",
   "metadata": {},
   "outputs": [
    {
     "name": "stdout",
     "output_type": "stream",
     "text": [
      "Enter the length of the rectangle: 55\n",
      "Enter the breadth of the rectangle: 12\n",
      "It's a rectangle.\n"
     ]
    }
   ],
   "source": [
    "# Taking user input for length and breadth\n",
    "length = float(input(\"Enter the length of the rectangle: \"))\n",
    "breadth = float(input(\"Enter the breadth of the rectangle: \"))\n",
    "\n",
    "# Checking if it's a square or a rectangle\n",
    "if length == breadth:\n",
    "    print(\"It's a square.\")\n",
    "else:\n",
    "    print(\"It's a rectangle.\")\n"
   ]
  },
  {
   "cell_type": "code",
   "execution_count": null,
   "id": "e8952884",
   "metadata": {},
   "outputs": [],
   "source": [
    "A shop will give discount of 10% if the cost of purchased quantity is more than 1000. Ask user for quantity Suppose, one unit will cost 100. Judge and print total cost for user. "
   ]
  },
  {
   "cell_type": "code",
   "execution_count": 15,
   "id": "830064fe",
   "metadata": {},
   "outputs": [
    {
     "name": "stdout",
     "output_type": "stream",
     "text": [
      "Enter the quantity: 100\n",
      "The total cost for 100 units is $9000.00\n"
     ]
    }
   ],
   "source": [
    "\n",
    "cost_per_unit = 100\n",
    "\n",
    "quantity = int(input(\"Enter the quantity: \"))\n",
    "\n",
    "total_cost = quantity * cost_per_unit\n",
    "\n",
    "if total_cost > 1000:\n",
    "    discount = 0.1 * total_cost  \n",
    "    total_cost -= discount  \n",
    "print(f\"The total cost for {quantity} units is ${total_cost:.2f}\")\n"
   ]
  },
  {
   "cell_type": "code",
   "execution_count": null,
   "id": "f1639f0f",
   "metadata": {},
   "outputs": [],
   "source": [
    " A school has following rules for grading system: \n",
    "a. Below 25 - F \n",
    "b. 25 to 45 - E \n",
    "c. 45 to 50 - D \n",
    "d. 50 to 60 - C \n",
    "e. 60 to 80 - B \n",
    "f. Above 80 - A \n",
    "Ask user to enter marks and print the corresponding grade.\n"
   ]
  },
  {
   "cell_type": "code",
   "execution_count": 16,
   "id": "7460f815",
   "metadata": {},
   "outputs": [
    {
     "name": "stdout",
     "output_type": "stream",
     "text": [
      "Enter the marks: 95\n",
      "The corresponding grade for 95.0 marks is: A\n"
     ]
    }
   ],
   "source": [
    "\n",
    "marks = float(input(\"Enter the marks: \"))\n",
    "\n",
    "if marks < 25:\n",
    "    grade = 'F'\n",
    "elif marks >= 25 and marks < 45:\n",
    "    grade = 'E'\n",
    "elif marks >= 45 and marks < 50:\n",
    "    grade = 'D'\n",
    "elif marks >= 50 and marks < 60:\n",
    "    grade = 'C'\n",
    "elif marks >= 60 and marks < 80:\n",
    "    grade = 'B'\n",
    "else:\n",
    "    grade = 'A'\n",
    "\n",
    "print(f\"The corresponding grade for {marks} marks is: {grade}\")\n"
   ]
  },
  {
   "cell_type": "code",
   "execution_count": null,
   "id": "28e8e6be",
   "metadata": {},
   "outputs": [],
   "source": [
    "A student will not be allowed to sit in exam if his/her attendence is less than 75%. \n",
    "Take following input from user \n",
    "Number of classes held \n",
    "Number of classes attended. \n",
    "And print \n",
    "percentage of class attended \n",
    "Is student is allowed to sit in exam or not. \n"
   ]
  },
  {
   "cell_type": "code",
   "execution_count": 17,
   "id": "02356fef",
   "metadata": {},
   "outputs": [
    {
     "name": "stdout",
     "output_type": "stream",
     "text": [
      "Enter the number of classes held: 3\n",
      "Enter the number of classes attended: 70\n",
      "Percentage of classes attended: 2333.33%\n",
      "The student is allowed to sit in the exam.\n"
     ]
    }
   ],
   "source": [
    "classes_held = int(input(\"Enter the number of classes held: \"))\n",
    "classes_attended = int(input(\"Enter the number of classes attended: \"))\n",
    "\n",
    "attendance_percentage = (classes_attended / classes_held) * 100\n",
    "\n",
    "print(f\"Percentage of classes attended: {attendance_percentage:.2f}%\")\n",
    "\n",
    "if attendance_percentage >= 75:\n",
    "    print(\"The student is allowed to sit in the exam.\")\n",
    "else:\n",
    "    print(\"The student is not allowed to sit in the exam due to low attendance.\")\n"
   ]
  },
  {
   "cell_type": "code",
   "execution_count": null,
   "id": "71b4116d",
   "metadata": {},
   "outputs": [],
   "source": [
    "Write a program to calculate the electricity bill (accept number of unit from user) according to the following criteria : Unit Price uptp 100 units no charge Next 200 units Rs 5 per unit After 200 units Rs 10 per unit (For example if input unit is 350 than total bill amount is Rs.3500 (For example if input unit is 97 than total bill amount is Rs.0 (For example if input unit is 150 than total bill amount is Rs.750 "
   ]
  },
  {
   "cell_type": "code",
   "execution_count": 18,
   "id": "fa622dc5",
   "metadata": {},
   "outputs": [
    {
     "name": "stdout",
     "output_type": "stream",
     "text": [
      "Enter the number of units consumed: 5\n",
      "The total bill amount for 5 units is Rs. 0\n"
     ]
    }
   ],
   "source": [
    "units_consumed = int(input(\"Enter the number of units consumed: \"))\n",
    "\n",
    "total_bill = 0\n",
    "remaining_units = units_consumed\n",
    "\n",
    "if remaining_units > 200:\n",
    "    total_bill += 100 * 0\n",
    "    remaining_units -= 100\n",
    "\n",
    "    total_bill += 200 * 5 \n",
    "    remaining_units -= 200\n",
    "\n",
    "    total_bill += remaining_units * 10 \n",
    "else:\n",
    "    if remaining_units > 100:\n",
    "        total_bill += 100 * 0 \n",
    "        remaining_units -= 100\n",
    "\n",
    "        total_bill += remaining_units * 5 \n",
    "    else:\n",
    "        total_bill += remaining_units * 0  \n",
    "        \n",
    "print(f\"The total bill amount for {units_consumed} units is Rs. {total_bill}\")\n"
   ]
  },
  {
   "cell_type": "code",
   "execution_count": null,
   "id": "55c9f742",
   "metadata": {},
   "outputs": [],
   "source": []
  }
 ],
 "metadata": {
  "kernelspec": {
   "display_name": "Python 3 (ipykernel)",
   "language": "python",
   "name": "python3"
  },
  "language_info": {
   "codemirror_mode": {
    "name": "ipython",
    "version": 3
   },
   "file_extension": ".py",
   "mimetype": "text/x-python",
   "name": "python",
   "nbconvert_exporter": "python",
   "pygments_lexer": "ipython3",
   "version": "3.11.5"
  }
 },
 "nbformat": 4,
 "nbformat_minor": 5
}
