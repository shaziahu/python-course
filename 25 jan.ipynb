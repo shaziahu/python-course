{
 "cells": [
  {
   "cell_type": "code",
   "execution_count": 3,
   "id": "9bf0fbc9",
   "metadata": {},
   "outputs": [],
   "source": [
    "employees = {11018:{'name':'nasir','dept':'sales','salary':100000,\"loan\":500000, 'commission':2}\n",
    "            ,11019:{'name':'umer','dept':'sales','salary':200000,\"loan\":300000, 'commission':2.5}\n",
    "            ,11020:{'name':'ali','dept':'sales','salary':150000,\"loan\":200000, 'commission':2}}"
   ]
  },
  {
   "cell_type": "code",
   "execution_count": 17,
   "id": "f0819fdd",
   "metadata": {},
   "outputs": [],
   "source": [
    "def deductions(key):\n",
    "    deductions = employees[key]['loan']*0.02\n",
    "    return deductions"
   ]
  },
  {
   "cell_type": "code",
   "execution_count": 22,
   "id": "17f25960",
   "metadata": {},
   "outputs": [],
   "source": [
    "def comission_calc():\n",
    "    amt = int(input('please enter your sale amount'))\n",
    "    comission = 0\n",
    "    if amt>=500000:\n",
    "        comission = amt*.10\n",
    "    elif amt>=250000:\n",
    "        comission = amt*.05\n",
    "    elif amt>=100000:\n",
    "        comission = amt*.02\n",
    "    else:\n",
    "        comission = amt*.01\n",
    "    return comission"
   ]
  },
  {
   "cell_type": "code",
   "execution_count": 27,
   "id": "abc49ae3",
   "metadata": {},
   "outputs": [],
   "source": [
    "def print_salary_slip():\n",
    "    for key in employees:\n",
    "        deduction = deduction(key)\n",
    "        comission = comission_calc()\n",
    "        print(f'''\n",
    "                SMIT SALAARY SLIP\n",
    "                =================\n",
    "        EmpID:        {key}\n",
    "        EMP Name:     {employees [key]['name']}\n",
    "        Basic salary: {employees[key]['salary']}\n",
    "        Deductions:   {deduction(key)}\n",
    "        Incentives:   {comission}\n",
    "        Not salary:   {employees[key]['salary']}\n",
    "        \n",
    "        MOJ KARO\n",
    "        \n",
    "        ============================================================================================\n",
    "        \n",
    "        ''')\n",
    "        \n",
    "    "
   ]
  },
  {
   "cell_type": "code",
   "execution_count": null,
   "id": "84405d6e",
   "metadata": {},
   "outputs": [],
   "source": []
  }
 ],
 "metadata": {
  "kernelspec": {
   "display_name": "Python 3 (ipykernel)",
   "language": "python",
   "name": "python3"
  },
  "language_info": {
   "codemirror_mode": {
    "name": "ipython",
    "version": 3
   },
   "file_extension": ".py",
   "mimetype": "text/x-python",
   "name": "python",
   "nbconvert_exporter": "python",
   "pygments_lexer": "ipython3",
   "version": "3.11.5"
  }
 },
 "nbformat": 4,
 "nbformat_minor": 5
}
