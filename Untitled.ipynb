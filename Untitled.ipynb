{
 "cells": [
  {
   "cell_type": "code",
   "execution_count": 4,
   "id": "e69b777c",
   "metadata": {},
   "outputs": [
    {
     "name": "stdout",
     "output_type": "stream",
     "text": [
      "enter a num8\n"
     ]
    },
    {
     "data": {
      "text/plain": [
       "2.7178571428571425"
      ]
     },
     "execution_count": 4,
     "metadata": {},
     "output_type": "execute_result"
    }
   ],
   "source": [
    "n = int(input(\"enter a num\"))\n",
    "total=0\n",
    "for a in range(1, n+1):\n",
    "    total += 1/a\n",
    "    \n",
    "total    "
   ]
  },
  {
   "cell_type": "markdown",
   "id": "85e7381a",
   "metadata": {},
   "source": [
    "# functions"
   ]
  },
  {
   "cell_type": "markdown",
   "id": "c9791589",
   "metadata": {},
   "source": [
    "###### functions are block of code."
   ]
  },
  {
   "cell_type": "code",
   "execution_count": 6,
   "id": "7a84d7b4",
   "metadata": {},
   "outputs": [],
   "source": [
    "def tandoor () :\n",
    "    print(\"nan lag rahe hen\")\n",
    "    "
   ]
  },
  {
   "cell_type": "code",
   "execution_count": 7,
   "id": "53da8488",
   "metadata": {},
   "outputs": [
    {
     "name": "stdout",
     "output_type": "stream",
     "text": [
      "nan lag rahe hen\n"
     ]
    }
   ],
   "source": [
    "tandoor()"
   ]
  },
  {
   "cell_type": "code",
   "execution_count": 13,
   "id": "1f4d40e7",
   "metadata": {},
   "outputs": [],
   "source": [
    "def tandoor (kitne_nan) :\n",
    "    print(f\"{kitne_nan} ready hen\")\n",
    "    print(f\"{kitne_nan*25} rupey hogaye\")\n",
    "    "
   ]
  },
  {
   "cell_type": "code",
   "execution_count": 14,
   "id": "93735825",
   "metadata": {},
   "outputs": [
    {
     "name": "stdout",
     "output_type": "stream",
     "text": [
      "5 ready hen\n",
      "125 rupey hogaye\n"
     ]
    }
   ],
   "source": [
    "tandoor(5)"
   ]
  },
  {
   "cell_type": "code",
   "execution_count": 15,
   "id": "78778d94",
   "metadata": {},
   "outputs": [
    {
     "name": "stdout",
     "output_type": "stream",
     "text": [
      "20 ready hen\n",
      "500 rupey hogaye\n"
     ]
    }
   ],
   "source": [
    "tandoor(20)"
   ]
  },
  {
   "cell_type": "code",
   "execution_count": 19,
   "id": "17e7fef6",
   "metadata": {},
   "outputs": [],
   "source": [
    "def add(a,b):\n",
    "    print(a+b)"
   ]
  },
  {
   "cell_type": "code",
   "execution_count": 25,
   "id": "210a1b47",
   "metadata": {},
   "outputs": [
    {
     "name": "stdout",
     "output_type": "stream",
     "text": [
      "13\n"
     ]
    }
   ],
   "source": [
    "add(4,9)"
   ]
  },
  {
   "cell_type": "code",
   "execution_count": 26,
   "id": "e1b1c491",
   "metadata": {},
   "outputs": [],
   "source": [
    "def sub(a,b):\n",
    "    print(a-b)"
   ]
  },
  {
   "cell_type": "code",
   "execution_count": 27,
   "id": "314040b4",
   "metadata": {},
   "outputs": [
    {
     "name": "stdout",
     "output_type": "stream",
     "text": [
      "30\n"
     ]
    }
   ],
   "source": [
    "sub(39,9)"
   ]
  },
  {
   "cell_type": "code",
   "execution_count": 28,
   "id": "591a9719",
   "metadata": {},
   "outputs": [],
   "source": [
    "def mul(a,b):\n",
    "    print(a*b)"
   ]
  },
  {
   "cell_type": "code",
   "execution_count": 29,
   "id": "4bb7e28f",
   "metadata": {},
   "outputs": [
    {
     "name": "stdout",
     "output_type": "stream",
     "text": [
      "24\n"
     ]
    }
   ],
   "source": [
    "mul(4,6)"
   ]
  },
  {
   "cell_type": "code",
   "execution_count": 35,
   "id": "5578d31b",
   "metadata": {},
   "outputs": [
    {
     "ename": "SyntaxError",
     "evalue": "invalid decimal literal (309870073.py, line 1)",
     "output_type": "error",
     "traceback": [
      "\u001b[1;36m  Cell \u001b[1;32mIn[35], line 1\u001b[1;36m\u001b[0m\n\u001b[1;33m    def receptionist(1st):\u001b[0m\n\u001b[1;37m                     ^\u001b[0m\n\u001b[1;31mSyntaxError\u001b[0m\u001b[1;31m:\u001b[0m invalid decimal literal\n"
     ]
    }
   ],
   "source": [
    "def receptionist(1st):\n",
    "    for guest in 1st:\n",
    "        print(f\"welcomme to SMIT: {guest}\")"
   ]
  },
  {
   "cell_type": "code",
   "execution_count": 36,
   "id": "091b73e8",
   "metadata": {},
   "outputs": [],
   "source": [
    "def reverse_string(txt):\n",
    "    print(txt[::-1])"
   ]
  },
  {
   "cell_type": "code",
   "execution_count": 37,
   "id": "cde0e39f",
   "metadata": {},
   "outputs": [
    {
     "name": "stdout",
     "output_type": "stream",
     "text": [
      "uoy era woh\n"
     ]
    }
   ],
   "source": [
    "reverse_string(\"how are you\")"
   ]
  },
  {
   "cell_type": "code",
   "execution_count": 38,
   "id": "2549bcbc",
   "metadata": {},
   "outputs": [],
   "source": [
    "def shift_left(txt):\n",
    "    print(txt.replace(txt[0],txt[-1]))"
   ]
  },
  {
   "cell_type": "code",
   "execution_count": 39,
   "id": "254cb8ab",
   "metadata": {},
   "outputs": [
    {
     "name": "stdout",
     "output_type": "stream",
     "text": [
      "52345\n"
     ]
    }
   ],
   "source": [
    "shift_left('12345')"
   ]
  },
  {
   "cell_type": "markdown",
   "id": "039330ed",
   "metadata": {},
   "source": [
    "## new question"
   ]
  },
  {
   "cell_type": "code",
   "execution_count": 65,
   "id": "65704b84",
   "metadata": {},
   "outputs": [],
   "source": [
    "def initials_creator(name):\n",
    "    name = input(\"Enter Your Name\").title()\n",
    "    new_name = ''\n",
    "    for char in name:\n",
    "        if char.isupper():\n",
    "            new_name+char +\".\"\n",
    "    print(new_name)\n",
    "    \n",
    "    initials_creator(name)"
   ]
  },
  {
   "cell_type": "code",
   "execution_count": null,
   "id": "e4c5250c",
   "metadata": {},
   "outputs": [],
   "source": []
  }
 ],
 "metadata": {
  "kernelspec": {
   "display_name": "Python 3 (ipykernel)",
   "language": "python",
   "name": "python3"
  },
  "language_info": {
   "codemirror_mode": {
    "name": "ipython",
    "version": 3
   },
   "file_extension": ".py",
   "mimetype": "text/x-python",
   "name": "python",
   "nbconvert_exporter": "python",
   "pygments_lexer": "ipython3",
   "version": "3.11.5"
  }
 },
 "nbformat": 4,
 "nbformat_minor": 5
}
