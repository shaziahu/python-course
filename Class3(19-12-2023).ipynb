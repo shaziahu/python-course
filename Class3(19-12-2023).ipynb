{
 "cells": [
  {
   "cell_type": "code",
   "execution_count": 1,
   "id": "2fe6771a",
   "metadata": {},
   "outputs": [],
   "source": [
    "num1 = 12\n",
    "num2 = 13\n",
    "result = num1+num2"
   ]
  },
  {
   "cell_type": "code",
   "execution_count": 2,
   "id": "1a6d82e1",
   "metadata": {},
   "outputs": [
    {
     "name": "stdout",
     "output_type": "stream",
     "text": [
      "25\n"
     ]
    }
   ],
   "source": [
    "print(result)"
   ]
  },
  {
   "cell_type": "markdown",
   "id": "db092d42",
   "metadata": {},
   "source": [
    "# User Input"
   ]
  },
  {
   "cell_type": "code",
   "execution_count": 8,
   "id": "249570a5",
   "metadata": {},
   "outputs": [
    {
     "name": "stdout",
     "output_type": "stream",
     "text": [
      "Enter first number! 12\n",
      "Enter second number! 13\n",
      "25\n"
     ]
    }
   ],
   "source": [
    "num1 = int(input('Enter first number! '))\n",
    "num2 = int(input('Enter second number! '))\n",
    "\n",
    "result = num1 + num2 \n",
    "\n",
    "print(result)\n",
    "\n"
   ]
  },
  {
   "cell_type": "code",
   "execution_count": null,
   "id": "7daaba89",
   "metadata": {},
   "outputs": [],
   "source": [
    "print('hello')"
   ]
  },
  {
   "cell_type": "code",
   "execution_count": null,
   "id": "f184b614",
   "metadata": {},
   "outputs": [],
   "source": [
    "type(num2)"
   ]
  },
  {
   "cell_type": "code",
   "execution_count": 12,
   "id": "f0a1db34",
   "metadata": {},
   "outputs": [
    {
     "name": "stdout",
     "output_type": "stream",
     "text": [
      "Enter any message i am ali khan\n",
      "i am ali khan\n"
     ]
    }
   ],
   "source": [
    "text = input('Enter any message ')\n",
    "print(text)"
   ]
  },
  {
   "cell_type": "markdown",
   "id": "01090af3",
   "metadata": {},
   "source": [
    "# String methods"
   ]
  },
  {
   "cell_type": "markdown",
   "id": "4b9c4210",
   "metadata": {},
   "source": [
    "mehtods = functions(jinka taluq kisi ek khas class se hota hai)"
   ]
  },
  {
   "cell_type": "code",
   "execution_count": 19,
   "id": "a51e5ac3",
   "metadata": {},
   "outputs": [],
   "source": [
    "text = 'everyone loves pakistan'"
   ]
  },
  {
   "cell_type": "code",
   "execution_count": 14,
   "id": "4d3b4dde",
   "metadata": {},
   "outputs": [
    {
     "data": {
      "text/plain": [
       "'EVERYONE LOVES PAKISTAN'"
      ]
     },
     "execution_count": 14,
     "metadata": {},
     "output_type": "execute_result"
    }
   ],
   "source": [
    "text.upper()"
   ]
  },
  {
   "cell_type": "code",
   "execution_count": 17,
   "id": "1a8858f5",
   "metadata": {},
   "outputs": [
    {
     "data": {
      "text/plain": [
       "'everyone loves pakistan'"
      ]
     },
     "execution_count": 17,
     "metadata": {},
     "output_type": "execute_result"
    }
   ],
   "source": [
    "text.lower()"
   ]
  },
  {
   "cell_type": "code",
   "execution_count": 20,
   "id": "00446240",
   "metadata": {},
   "outputs": [
    {
     "data": {
      "text/plain": [
       "'Everyone Loves Pakistan'"
      ]
     },
     "execution_count": 20,
     "metadata": {},
     "output_type": "execute_result"
    }
   ],
   "source": [
    "text.title()"
   ]
  },
  {
   "cell_type": "code",
   "execution_count": 21,
   "id": "c2ea17a3",
   "metadata": {},
   "outputs": [
    {
     "data": {
      "text/plain": [
       "'Everyone loves pakistan'"
      ]
     },
     "execution_count": 21,
     "metadata": {},
     "output_type": "execute_result"
    }
   ],
   "source": [
    "text.capitalize()"
   ]
  },
  {
   "cell_type": "code",
   "execution_count": 32,
   "id": "13a9faac",
   "metadata": {},
   "outputs": [],
   "source": [
    "text = 'everyone loves pakistan'"
   ]
  },
  {
   "cell_type": "code",
   "execution_count": 30,
   "id": "888aadfe",
   "metadata": {},
   "outputs": [
    {
     "data": {
      "text/plain": [
       "False"
      ]
     },
     "execution_count": 30,
     "metadata": {},
     "output_type": "execute_result"
    }
   ],
   "source": [
    "text.isalpha()"
   ]
  },
  {
   "cell_type": "code",
   "execution_count": 31,
   "id": "5c353f03",
   "metadata": {},
   "outputs": [],
   "source": [
    "text1 = 'everyonelovespakistan'"
   ]
  },
  {
   "cell_type": "code",
   "execution_count": 28,
   "id": "eafece14",
   "metadata": {},
   "outputs": [
    {
     "data": {
      "text/plain": [
       "True"
      ]
     },
     "execution_count": 28,
     "metadata": {},
     "output_type": "execute_result"
    }
   ],
   "source": [
    "text.isalpha()"
   ]
  },
  {
   "cell_type": "code",
   "execution_count": 33,
   "id": "305edf7d",
   "metadata": {},
   "outputs": [],
   "source": [
    "text2 = 'alikhan029'"
   ]
  },
  {
   "cell_type": "code",
   "execution_count": 34,
   "id": "9a968b24",
   "metadata": {},
   "outputs": [
    {
     "data": {
      "text/plain": [
       "True"
      ]
     },
     "execution_count": 34,
     "metadata": {},
     "output_type": "execute_result"
    }
   ],
   "source": [
    "text2.isalnum()"
   ]
  },
  {
   "cell_type": "code",
   "execution_count": 38,
   "id": "ee8accf3",
   "metadata": {},
   "outputs": [],
   "source": [
    "text3 = 'alikhan-029'"
   ]
  },
  {
   "cell_type": "code",
   "execution_count": 37,
   "id": "300f393d",
   "metadata": {},
   "outputs": [
    {
     "data": {
      "text/plain": [
       "False"
      ]
     },
     "execution_count": 37,
     "metadata": {},
     "output_type": "execute_result"
    }
   ],
   "source": [
    "text3.isalnum()"
   ]
  },
  {
   "cell_type": "code",
   "execution_count": 43,
   "id": "bf1f0f04",
   "metadata": {},
   "outputs": [],
   "source": [
    "x = '123'"
   ]
  },
  {
   "cell_type": "code",
   "execution_count": 44,
   "id": "811cd464",
   "metadata": {},
   "outputs": [
    {
     "data": {
      "text/plain": [
       "True"
      ]
     },
     "execution_count": 44,
     "metadata": {},
     "output_type": "execute_result"
    }
   ],
   "source": [
    "x.isnumeric()"
   ]
  },
  {
   "cell_type": "code",
   "execution_count": 48,
   "id": "6168c73c",
   "metadata": {},
   "outputs": [],
   "source": [
    "x = '12.3'"
   ]
  },
  {
   "cell_type": "code",
   "execution_count": 46,
   "id": "208efa0d",
   "metadata": {},
   "outputs": [
    {
     "data": {
      "text/plain": [
       "False"
      ]
     },
     "execution_count": 46,
     "metadata": {},
     "output_type": "execute_result"
    }
   ],
   "source": [
    "x.isnumeric()"
   ]
  },
  {
   "cell_type": "code",
   "execution_count": 49,
   "id": "6885698f",
   "metadata": {},
   "outputs": [
    {
     "data": {
      "text/plain": [
       "False"
      ]
     },
     "execution_count": 49,
     "metadata": {},
     "output_type": "execute_result"
    }
   ],
   "source": [
    "x.isdigit()"
   ]
  },
  {
   "cell_type": "code",
   "execution_count": 50,
   "id": "00059677",
   "metadata": {},
   "outputs": [],
   "source": [
    "x = '123'"
   ]
  },
  {
   "cell_type": "code",
   "execution_count": 51,
   "id": "84fdcaae",
   "metadata": {},
   "outputs": [
    {
     "data": {
      "text/plain": [
       "True"
      ]
     },
     "execution_count": 51,
     "metadata": {},
     "output_type": "execute_result"
    }
   ],
   "source": [
    "x.isdigit()"
   ]
  },
  {
   "cell_type": "code",
   "execution_count": 60,
   "id": "2f6e13a4",
   "metadata": {},
   "outputs": [],
   "source": [
    "x = '-124'"
   ]
  },
  {
   "cell_type": "code",
   "execution_count": 61,
   "id": "82ee7eab",
   "metadata": {},
   "outputs": [
    {
     "data": {
      "text/plain": [
       "False"
      ]
     },
     "execution_count": 61,
     "metadata": {},
     "output_type": "execute_result"
    }
   ],
   "source": [
    "x.isdigit()"
   ]
  },
  {
   "cell_type": "code",
   "execution_count": 64,
   "id": "84bdbf85",
   "metadata": {},
   "outputs": [
    {
     "data": {
      "text/plain": [
       "'everyone loves pakistan'"
      ]
     },
     "execution_count": 64,
     "metadata": {},
     "output_type": "execute_result"
    }
   ],
   "source": [
    "text.casefold()"
   ]
  },
  {
   "cell_type": "code",
   "execution_count": 71,
   "id": "9a721e49",
   "metadata": {},
   "outputs": [],
   "source": [
    "text = 'PAKISTAN IS very very best'"
   ]
  },
  {
   "cell_type": "code",
   "execution_count": 70,
   "id": "f2087088",
   "metadata": {},
   "outputs": [
    {
     "data": {
      "text/plain": [
       "'pakistan is best'"
      ]
     },
     "execution_count": 70,
     "metadata": {},
     "output_type": "execute_result"
    }
   ],
   "source": [
    "text.casefold()"
   ]
  },
  {
   "cell_type": "code",
   "execution_count": 84,
   "id": "61c221f4",
   "metadata": {},
   "outputs": [
    {
     "name": "stdout",
     "output_type": "stream",
     "text": [
      "2\n",
      "1\n"
     ]
    }
   ],
   "source": [
    "print(text.count('S'))\n",
    "print(text.count('s'))"
   ]
  },
  {
   "cell_type": "code",
   "execution_count": 90,
   "id": "e6f57e9b",
   "metadata": {},
   "outputs": [
    {
     "name": "stdout",
     "output_type": "stream",
     "text": [
      "Pakistan IS very very best\n",
      "PAKISTAN IS more best\n"
     ]
    }
   ],
   "source": [
    "text = 'PAKISTAN IS very very best'\n",
    "\n",
    "print(text.replace('PAKISTAN', 'Pakistan'))\n",
    "\n",
    "print(text.replace('very very', 'more'))"
   ]
  },
  {
   "cell_type": "code",
   "execution_count": 88,
   "id": "88d54c35",
   "metadata": {},
   "outputs": [
    {
     "data": {
      "text/plain": [
       "'PAKISTAN IS more more best'"
      ]
     },
     "execution_count": 88,
     "metadata": {},
     "output_type": "execute_result"
    }
   ],
   "source": [
    "text = 'PAKISTAN IS very very best'\n",
    "\n",
    "text.replace('very', 'more')"
   ]
  },
  {
   "cell_type": "code",
   "execution_count": 89,
   "id": "87611e85",
   "metadata": {},
   "outputs": [
    {
     "data": {
      "text/plain": [
       "'PAKISTAN IS very more best'"
      ]
     },
     "execution_count": 89,
     "metadata": {},
     "output_type": "execute_result"
    }
   ],
   "source": [
    "text.replace('very very', 'very more')"
   ]
  },
  {
   "cell_type": "markdown",
   "id": "832141a7",
   "metadata": {},
   "source": [
    "Strings are immutable"
   ]
  },
  {
   "cell_type": "code",
   "execution_count": 107,
   "id": "093ea5ab",
   "metadata": {},
   "outputs": [],
   "source": [
    "string = 'This is string'"
   ]
  },
  {
   "cell_type": "code",
   "execution_count": 96,
   "id": "3ce5c7f7",
   "metadata": {},
   "outputs": [],
   "source": [
    "new_string =string.replace('This', 'That')"
   ]
  },
  {
   "cell_type": "code",
   "execution_count": 94,
   "id": "21a299a5",
   "metadata": {},
   "outputs": [
    {
     "data": {
      "text/plain": [
       "2345747671920"
      ]
     },
     "execution_count": 94,
     "metadata": {},
     "output_type": "execute_result"
    }
   ],
   "source": [
    "id(string)"
   ]
  },
  {
   "cell_type": "code",
   "execution_count": 95,
   "id": "2bb12489",
   "metadata": {},
   "outputs": [
    {
     "data": {
      "text/plain": [
       "'This is string'"
      ]
     },
     "execution_count": 95,
     "metadata": {},
     "output_type": "execute_result"
    }
   ],
   "source": [
    "string"
   ]
  },
  {
   "cell_type": "code",
   "execution_count": 97,
   "id": "619761c6",
   "metadata": {},
   "outputs": [
    {
     "data": {
      "text/plain": [
       "'This is string'"
      ]
     },
     "execution_count": 97,
     "metadata": {},
     "output_type": "execute_result"
    }
   ],
   "source": [
    "string"
   ]
  },
  {
   "cell_type": "code",
   "execution_count": 98,
   "id": "0230a359",
   "metadata": {},
   "outputs": [
    {
     "data": {
      "text/plain": [
       "'That is string'"
      ]
     },
     "execution_count": 98,
     "metadata": {},
     "output_type": "execute_result"
    }
   ],
   "source": [
    "new_string"
   ]
  },
  {
   "cell_type": "code",
   "execution_count": 99,
   "id": "eac127cd",
   "metadata": {},
   "outputs": [
    {
     "data": {
      "text/plain": [
       "2345744842928"
      ]
     },
     "execution_count": 99,
     "metadata": {},
     "output_type": "execute_result"
    }
   ],
   "source": [
    "id(new_string)"
   ]
  },
  {
   "cell_type": "code",
   "execution_count": 100,
   "id": "a68dd4f4",
   "metadata": {},
   "outputs": [
    {
     "data": {
      "text/plain": [
       "2345747671920"
      ]
     },
     "execution_count": 100,
     "metadata": {},
     "output_type": "execute_result"
    }
   ],
   "source": [
    "id(string)"
   ]
  },
  {
   "cell_type": "code",
   "execution_count": 110,
   "id": "4f299072",
   "metadata": {},
   "outputs": [],
   "source": [
    "string = string.replace('This', 'THAT')"
   ]
  },
  {
   "cell_type": "code",
   "execution_count": 111,
   "id": "59ebf35c",
   "metadata": {},
   "outputs": [
    {
     "data": {
      "text/plain": [
       "'THAT is string'"
      ]
     },
     "execution_count": 111,
     "metadata": {},
     "output_type": "execute_result"
    }
   ],
   "source": [
    "string"
   ]
  },
  {
   "cell_type": "code",
   "execution_count": 112,
   "id": "f89910e9",
   "metadata": {},
   "outputs": [
    {
     "data": {
      "text/plain": [
       "2345743700976"
      ]
     },
     "execution_count": 112,
     "metadata": {},
     "output_type": "execute_result"
    }
   ],
   "source": [
    "id(string)"
   ]
  },
  {
   "cell_type": "code",
   "execution_count": 116,
   "id": "4b2a97b8",
   "metadata": {},
   "outputs": [
    {
     "data": {
      "text/plain": [
       "'THAT is string'"
      ]
     },
     "execution_count": 116,
     "metadata": {},
     "output_type": "execute_result"
    }
   ],
   "source": [
    "len(string)\n",
    "string"
   ]
  },
  {
   "cell_type": "code",
   "execution_count": 117,
   "id": "a9b01f6e",
   "metadata": {},
   "outputs": [
    {
     "data": {
      "text/plain": [
       "'T'"
      ]
     },
     "execution_count": 117,
     "metadata": {},
     "output_type": "execute_result"
    }
   ],
   "source": [
    "string[0]"
   ]
  },
  {
   "cell_type": "code",
   "execution_count": 118,
   "id": "17ceb24a",
   "metadata": {},
   "outputs": [
    {
     "ename": "TypeError",
     "evalue": "'str' object does not support item assignment",
     "output_type": "error",
     "traceback": [
      "\u001b[1;31m--------------------------------------------------------------------------\u001b[0m",
      "\u001b[1;31mTypeError\u001b[0m                                Traceback (most recent call last)",
      "\u001b[1;32m~\\AppData\\Local\\Temp\\ipykernel_2408\\1751016947.py\u001b[0m in \u001b[0;36m<module>\u001b[1;34m\u001b[0m\n\u001b[1;32m----> 1\u001b[1;33m \u001b[0mstring\u001b[0m\u001b[1;33m[\u001b[0m\u001b[1;36m0\u001b[0m\u001b[1;33m]\u001b[0m\u001b[1;33m=\u001b[0m \u001b[1;34m't'\u001b[0m\u001b[1;33m\u001b[0m\u001b[1;33m\u001b[0m\u001b[0m\n\u001b[0m",
      "\u001b[1;31mTypeError\u001b[0m: 'str' object does not support item assignment"
     ]
    }
   ],
   "source": [
    "string[0]= 't'"
   ]
  },
  {
   "cell_type": "code",
   "execution_count": 119,
   "id": "af285150",
   "metadata": {},
   "outputs": [],
   "source": [
    "new = ' I have a two spaces '"
   ]
  },
  {
   "cell_type": "code",
   "execution_count": null,
   "id": "a0744b7d",
   "metadata": {},
   "outputs": [],
   "source": [
    "new.strip()"
   ]
  }
 ],
 "metadata": {
  "kernelspec": {
   "display_name": "Python 3 (ipykernel)",
   "language": "python",
   "name": "python3"
  },
  "language_info": {
   "codemirror_mode": {
    "name": "ipython",
    "version": 3
   },
   "file_extension": ".py",
   "mimetype": "text/x-python",
   "name": "python",
   "nbconvert_exporter": "python",
   "pygments_lexer": "ipython3",
   "version": "3.9.13"
  }
 },
 "nbformat": 4,
 "nbformat_minor": 5
}
