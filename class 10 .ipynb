{
 "cells": [
  {
   "cell_type": "markdown",
   "id": "ebb1145b",
   "metadata": {},
   "source": [
    "# while loops\n",
    "while condition \n",
    "{\n",
    "c\n",
    "o\n",
    "d\n",
    "e\n",
    "s\n",
    "}"
   ]
  },
  {
   "cell_type": "code",
   "execution_count": 24,
   "id": "035cad4e",
   "metadata": {},
   "outputs": [],
   "source": [
    "students  = [{'name':'Afeef', 'age':15, 'married':False},\n",
    "             {'name':'Hamza', 'age':24, 'married':False},\n",
    "             {'name':'Ali Hassan', 'age':21, 'married':False},\n",
    "             {'name':'Maqsood', 'age':25, 'married':False},\n",
    "             {'name':'Qalb', 'age':30, 'married':True},\n",
    "             {'name':'Sabee', 'age':27, 'married':True},\n",
    "             {'name':'Junaid', 'age':25, 'married':False},\n",
    "             {'name':'Ahmed', 'age':24, 'married':False},\n",
    "             {'name':'Khubaib', 'age':21, 'married':False},\n",
    "             {'name':'Azhan', 'age':25, 'married':True},\n",
    "             {'name':'Kifayat', 'age':20, 'married':False},\n",
    "             {'name':'Mujtaba', 'age':22, 'married':True}]"
   ]
  },
  {
   "cell_type": "code",
   "execution_count": 2,
   "id": "8594d927",
   "metadata": {},
   "outputs": [
    {
     "name": "stdout",
     "output_type": "stream",
     "text": [
      "False\n",
      "False\n",
      "False\n",
      "True\n",
      "False\n",
      "False\n",
      "False\n",
      "False\n",
      "False\n",
      "False\n",
      "False\n"
     ]
    }
   ],
   "source": [
    "for student in students:\n",
    "    if student['age']>=20:\n",
    "        print(student['married'])"
   ]
  },
  {
   "cell_type": "code",
   "execution_count": 19,
   "id": "b52f6184",
   "metadata": {},
   "outputs": [
    {
     "name": "stdout",
     "output_type": "stream",
     "text": [
      "27\n"
     ]
    }
   ],
   "source": [
    "for student in students:\n",
    "    if student['age']==27:\n",
    "        print(student['age'])"
   ]
  },
  {
   "cell_type": "code",
   "execution_count": 25,
   "id": "0d12ab57",
   "metadata": {},
   "outputs": [
    {
     "data": {
      "text/plain": [
       "[{'name': 'Afeef', 'age': 15, 'married': False},\n",
       " {'name': 'Hamza', 'age': 24, 'married': False},\n",
       " {'name': 'Ali Hassan', 'age': 21, 'married': False},\n",
       " {'name': 'Maqsood', 'age': 25, 'married': False},\n",
       " {'name': 'Qalb', 'age': 30, 'married': True},\n",
       " {'name': 'Sabee', 'age': 27, 'married': True},\n",
       " {'name': 'Junaid', 'age': 25, 'married': False},\n",
       " {'name': 'Ahmed', 'age': 24, 'married': False},\n",
       " {'name': 'Khubaib', 'age': 21, 'married': False},\n",
       " {'name': 'Azhan', 'age': 25, 'married': True},\n",
       " {'name': 'Kifayat', 'age': 20, 'married': False},\n",
       " {'name': 'Mujtaba', 'age': 22, 'married': True}]"
      ]
     },
     "execution_count": 25,
     "metadata": {},
     "output_type": "execute_result"
    }
   ],
   "source": [
    "students"
   ]
  },
  {
   "cell_type": "code",
   "execution_count": 34,
   "id": "93784e89",
   "metadata": {},
   "outputs": [
    {
     "name": "stdout",
     "output_type": "stream",
     "text": [
      "Qalb\n",
      "Sabee\n",
      "Azhan\n"
     ]
    }
   ],
   "source": [
    "for student in students:\n",
    "    if student['age']>=25 and student ['married']==True:\n",
    "        \n",
    "        print(student['name'])\n",
    "\n",
    " "
   ]
  },
  {
   "cell_type": "code",
   "execution_count": 36,
   "id": "8c5eacb5",
   "metadata": {},
   "outputs": [
    {
     "name": "stdout",
     "output_type": "stream",
     "text": [
      "Qalb\n",
      "Sabee\n",
      "Azhan\n"
     ]
    }
   ],
   "source": [
    "for student in students:\n",
    "    if (student['age']>=25):\n",
    "        if student['married']==True:\n",
    "            print(student['name'])"
   ]
  },
  {
   "cell_type": "code",
   "execution_count": 37,
   "id": "68d7abb6",
   "metadata": {},
   "outputs": [
    {
     "data": {
      "text/plain": [
       "[{'name': 'Afeef', 'age': 15, 'married': False},\n",
       " {'name': 'Hamza', 'age': 24, 'married': False},\n",
       " {'name': 'Ali Hassan', 'age': 21, 'married': False},\n",
       " {'name': 'Maqsood', 'age': 25, 'married': False},\n",
       " {'name': 'Qalb', 'age': 30, 'married': True},\n",
       " {'name': 'Sabee', 'age': 27, 'married': True},\n",
       " {'name': 'Junaid', 'age': 25, 'married': False},\n",
       " {'name': 'Ahmed', 'age': 24, 'married': False},\n",
       " {'name': 'Khubaib', 'age': 21, 'married': False},\n",
       " {'name': 'Azhan', 'age': 25, 'married': True},\n",
       " {'name': 'Kifayat', 'age': 20, 'married': False},\n",
       " {'name': 'Mujtaba', 'age': 22, 'married': True}]"
      ]
     },
     "execution_count": 37,
     "metadata": {},
     "output_type": "execute_result"
    }
   ],
   "source": [
    "students"
   ]
  },
  {
   "cell_type": "code",
   "execution_count": 39,
   "id": "847a7461",
   "metadata": {},
   "outputs": [],
   "source": [
    "students = [{'name': 'Afeef', 'age': 15, 'married': False},\n",
    " {'name': 'Hamza', 'age': 24, 'married': False},\n",
    " {'name': 'Ali Hassan', 'age': 21, 'married': False},\n",
    " {'name': 'Maqsood', 'age': 25, 'married': False},\n",
    " {'name': 'Qalb', 'age': 30, 'married': True},\n",
    " {'name': 'Sabee', 'age': 27, 'married': True},\n",
    " {'name': 'Junaid', 'age': 25, 'married': False},\n",
    " {'name': 'Ahmed', 'age': 24, 'married': False},\n",
    " {'name': 'Khubaib', 'age': 21, 'married': False},\n",
    " {'name': 'Azhan', 'age': 25, 'married': True},\n",
    " {'name': 'Kifayat', 'age': 20, 'married': False},\n",
    " {'name': 'Mujtaba', 'age': 22, 'married': True}]"
   ]
  },
  {
   "cell_type": "code",
   "execution_count": 40,
   "id": "93ae40f8",
   "metadata": {},
   "outputs": [
    {
     "data": {
      "text/plain": [
       "[{'name': 'Afeef', 'age': 15, 'married': False},\n",
       " {'name': 'Hamza', 'age': 24, 'married': False},\n",
       " {'name': 'Ali Hassan', 'age': 21, 'married': False},\n",
       " {'name': 'Maqsood', 'age': 25, 'married': False},\n",
       " {'name': 'Qalb', 'age': 30, 'married': True},\n",
       " {'name': 'Sabee', 'age': 27, 'married': True},\n",
       " {'name': 'Junaid', 'age': 25, 'married': False},\n",
       " {'name': 'Ahmed', 'age': 24, 'married': False},\n",
       " {'name': 'Khubaib', 'age': 21, 'married': False},\n",
       " {'name': 'Azhan', 'age': 25, 'married': True},\n",
       " {'name': 'Kifayat', 'age': 20, 'married': False},\n",
       " {'name': 'Mujtaba', 'age': 22, 'married': True}]"
      ]
     },
     "execution_count": 40,
     "metadata": {},
     "output_type": "execute_result"
    }
   ],
   "source": [
    "students"
   ]
  },
  {
   "cell_type": "code",
   "execution_count": 41,
   "id": "83780187",
   "metadata": {},
   "outputs": [
    {
     "ename": "SyntaxError",
     "evalue": "invalid syntax (3719774364.py, line 3)",
     "output_type": "error",
     "traceback": [
      "\u001b[1;36m  Cell \u001b[1;32mIn[41], line 3\u001b[1;36m\u001b[0m\n\u001b[1;33m    student['married']=True:\u001b[0m\n\u001b[1;37m                           ^\u001b[0m\n\u001b[1;31mSyntaxError\u001b[0m\u001b[1;31m:\u001b[0m invalid syntax\n"
     ]
    }
   ],
   "source": [
    "for student in students:\n",
    "    if (student['age']<25):\n",
    "         student['married']=True:\n",
    "            print(student['name'])"
   ]
  }
 ],
 "metadata": {
  "kernelspec": {
   "display_name": "Python 3 (ipykernel)",
   "language": "python",
   "name": "python3"
  },
  "language_info": {
   "codemirror_mode": {
    "name": "ipython",
    "version": 3
   },
   "file_extension": ".py",
   "mimetype": "text/x-python",
   "name": "python",
   "nbconvert_exporter": "python",
   "pygments_lexer": "ipython3",
   "version": "3.11.5"
  }
 },
 "nbformat": 4,
 "nbformat_minor": 5
}
