{
 "cells": [
  {
   "cell_type": "markdown",
   "id": "0a73d0c4",
   "metadata": {},
   "source": [
    "# While Loops\n",
    "   while condition\n",
    "      {\n",
    "         codes \n",
    "      }\n",
    "  "
   ]
  },
  {
   "cell_type": "code",
   "execution_count": 3,
   "id": "4ef6ace9",
   "metadata": {},
   "outputs": [
    {
     "name": "stdout",
     "output_type": "stream",
     "text": [
      "0 Hello\n",
      "1 Hello\n",
      "2 Hello\n",
      "3 Hello\n",
      "4 Hello\n",
      "5 Hello\n",
      "6 Hello\n",
      "7 Hello\n",
      "8 Hello\n",
      "9 Hello\n",
      "10 Hello\n"
     ]
    }
   ],
   "source": [
    "counter = 0\n",
    "while counter<=10 :\n",
    "    print(counter, \"Hello\")\n",
    "    counter +=1"
   ]
  },
  {
   "cell_type": "code",
   "execution_count": 4,
   "id": "09e6ff33",
   "metadata": {},
   "outputs": [
    {
     "name": "stdout",
     "output_type": "stream",
     "text": [
      "0 Hello\n",
      "1 Hello\n",
      "2 Hello\n",
      "3 Hello\n",
      "4 Hello\n",
      "5 Hello\n",
      "6 Hello\n",
      "7 Hello\n",
      "8 Hello\n",
      "9 Hello\n"
     ]
    }
   ],
   "source": [
    "for a in range(10):\n",
    "    print(a,\"Hello\")"
   ]
  },
  {
   "cell_type": "code",
   "execution_count": 6,
   "id": "fea9181b",
   "metadata": {},
   "outputs": [
    {
     "name": "stdout",
     "output_type": "stream",
     "text": [
      "0 Hello\n",
      "1 Hello\n",
      "2 Hello\n",
      "3 Hello\n",
      "4 Hello\n",
      "5 Hello\n"
     ]
    }
   ],
   "source": [
    "for a in range(10):\n",
    "    print(a,'Hello')\n",
    "    if a==5:\n",
    "        break"
   ]
  },
  {
   "cell_type": "code",
   "execution_count": 7,
   "id": "83f85d0d",
   "metadata": {},
   "outputs": [
    {
     "name": "stdout",
     "output_type": "stream",
     "text": [
      "Enter a guest nameAli Bhai\n",
      "Enter a guest nameShaboo\n",
      "Enter a guest nameRazia\n",
      "Enter a guest nameShagufta\n",
      "Enter a guest nameSultan\n"
     ]
    },
    {
     "data": {
      "text/plain": [
       "['Ali Bhai', 'Shaboo', 'Razia', 'Shagufta', 'Sultan']"
      ]
     },
     "execution_count": 7,
     "metadata": {},
     "output_type": "execute_result"
    }
   ],
   "source": [
    "guests = []\n",
    "\n",
    "for a in range(5):\n",
    "    guest_name = input(\"Enter a guest name\")\n",
    "    guests.append(guest_name)\n",
    "guests\n",
    "    "
   ]
  },
  {
   "cell_type": "code",
   "execution_count": 9,
   "id": "5cb04537",
   "metadata": {},
   "outputs": [
    {
     "name": "stdout",
     "output_type": "stream",
     "text": [
      "Enter a guest name or press q to quitali\n",
      "Enter a guest name or press q to quitfaisal\n",
      "Enter a guest name or press q to quitahmed\n",
      "Enter a guest name or press q to quitfahad\n",
      "Enter a guest name or press q to quitkashif\n",
      "Enter a guest name or press q to quitamer\n",
      "Enter a guest name or press q to quitumer\n",
      "Enter a guest name or press q to quitishan\n",
      "Enter a guest name or press q to quitq\n"
     ]
    }
   ],
   "source": [
    "guests = []\n",
    "while True:\n",
    "    guest_name = input(\"Enter a guest name or press q to quit\")\n",
    "    if guest_name ==\"q\":\n",
    "        break\n",
    "    else:guests.append(guest_name) \n",
    "   "
   ]
  },
  {
   "cell_type": "code",
   "execution_count": 10,
   "id": "0b913f52",
   "metadata": {},
   "outputs": [
    {
     "data": {
      "text/plain": [
       "['ali', 'faisal', 'ahmed', 'fahad', 'kashif', 'amer', 'umer', 'ishan']"
      ]
     },
     "execution_count": 10,
     "metadata": {},
     "output_type": "execute_result"
    }
   ],
   "source": [
    "guests"
   ]
  },
  {
   "cell_type": "code",
   "execution_count": 11,
   "id": "06a277af",
   "metadata": {},
   "outputs": [
    {
     "name": "stdout",
     "output_type": "stream",
     "text": [
      "Enter a guest name or press q to quitasad\n",
      "Enter a guest name or press q to quitdaad\n",
      "Enter a guest name or press q to quithasan\n",
      "Enter a guest name or press q to quitbaber\n",
      "Enter a guest name or press q to quitali\n",
      "Enter a guest name or press q to quitq\n"
     ]
    }
   ],
   "source": [
    "guests = []\n",
    "flag = True\n",
    "while flag:\n",
    "    guest_name = input(\"Enter a guest name or press q to quit\")\n",
    "    if guest_name ==\"q\":\n",
    "        flag=False\n",
    "    else:guests.append(guest_name) \n",
    "   "
   ]
  },
  {
   "cell_type": "code",
   "execution_count": 13,
   "id": "8f8e75f0",
   "metadata": {},
   "outputs": [
    {
     "data": {
      "text/plain": [
       "['asad', 'daad', 'hasan', 'baber', 'ali']"
      ]
     },
     "execution_count": 13,
     "metadata": {},
     "output_type": "execute_result"
    }
   ],
   "source": [
    "guests"
   ]
  },
  {
   "cell_type": "code",
   "execution_count": 17,
   "id": "f6237fbc",
   "metadata": {},
   "outputs": [
    {
     "name": "stdout",
     "output_type": "stream",
     "text": [
      "asad\n",
      "daad\n",
      "hasan\n",
      "baber\n",
      "ali\n"
     ]
    }
   ],
   "source": [
    "counter = 0 \n",
    "while counter < len(guests):\n",
    "    print(guests[counter])\n",
    "    counter +=1 "
   ]
  },
  {
   "cell_type": "code",
   "execution_count": 18,
   "id": "7e263159",
   "metadata": {},
   "outputs": [],
   "source": [
    "students  = [{'name':'Afeef', 'age':15, 'married':False},\n",
    "             {'name':'Hamza', 'age':24, 'married':False},\n",
    "             {'name':'Ali Hassan', 'age':21, 'married':False},\n",
    "             {'name':'Maqsood', 'age':25, 'married':False},\n",
    "             {'name':'Qalb', 'age':30, 'married':True},\n",
    "             {'name':'Sabee', 'age':27, 'married':False},\n",
    "             {'name':'Junaid', 'age':25, 'married':False},\n",
    "             {'name':'Ahmed', 'age':24, 'married':False},\n",
    "             {'name':'Khubaib', 'age':21, 'married':False},\n",
    "             {'name':'Azhan', 'age':25, 'married':False},\n",
    "             {'name':'Kifayat', 'age':20, 'married':False},\n",
    "             {'name':'Mujtaba', 'age':22, 'married':False}]"
   ]
  },
  {
   "cell_type": "code",
   "execution_count": 19,
   "id": "4bc4ff15",
   "metadata": {},
   "outputs": [
    {
     "name": "stdout",
     "output_type": "stream",
     "text": [
      "{'name': 'Afeef', 'age': 15, 'married': False}\n",
      "{'name': 'Hamza', 'age': 24, 'married': False}\n",
      "{'name': 'Ali Hassan', 'age': 21, 'married': False}\n",
      "{'name': 'Maqsood', 'age': 25, 'married': False}\n",
      "{'name': 'Qalb', 'age': 30, 'married': True}\n",
      "{'name': 'Sabee', 'age': 27, 'married': False}\n",
      "{'name': 'Junaid', 'age': 25, 'married': False}\n",
      "{'name': 'Ahmed', 'age': 24, 'married': False}\n",
      "{'name': 'Khubaib', 'age': 21, 'married': False}\n",
      "{'name': 'Azhan', 'age': 25, 'married': False}\n",
      "{'name': 'Kifayat', 'age': 20, 'married': False}\n",
      "{'name': 'Mujtaba', 'age': 22, 'married': False}\n"
     ]
    }
   ],
   "source": [
    "for student in students:\n",
    "    print(student)"
   ]
  },
  {
   "cell_type": "code",
   "execution_count": 21,
   "id": "196e468d",
   "metadata": {},
   "outputs": [
    {
     "name": "stdout",
     "output_type": "stream",
     "text": [
      "False\n",
      "False\n",
      "False\n",
      "True\n",
      "False\n",
      "False\n",
      "False\n",
      "False\n",
      "False\n",
      "False\n",
      "False\n"
     ]
    }
   ],
   "source": [
    "for student in students:\n",
    "    if student['age']>=20:\n",
    "        print(student['married'])"
   ]
  },
  {
   "cell_type": "code",
   "execution_count": 26,
   "id": "6aa5eb3a",
   "metadata": {},
   "outputs": [],
   "source": [
    "students  = [{'name':'Afeef', 'age':15, 'married':False},\n",
    "             {'name':'Hamza', 'age':24, 'married':False},\n",
    "             {'name':'Ali Hassan', 'age':21, 'married':False},\n",
    "             {'name':'Maqsood', 'age':25, 'married':False},\n",
    "             {'name':'Qalb', 'age':30, 'married':True},\n",
    "             {'name':'Sabee', 'age':27, 'married':True},\n",
    "             {'name':'Junaid', 'age':25, 'married':False},\n",
    "             {'name':'Ahmed', 'age':24, 'married':False},\n",
    "             {'name':'Khubaib', 'age':21, 'married':False},\n",
    "             {'name':'Azhan', 'age':25, 'married':True},\n",
    "             {'name':'Kifayat', 'age':20, 'married':False},\n",
    "             {'name':'Mujtaba', 'age':22, 'married':True}]"
   ]
  },
  {
   "cell_type": "code",
   "execution_count": 23,
   "id": "2725f626",
   "metadata": {},
   "outputs": [
    {
     "name": "stdout",
     "output_type": "stream",
     "text": [
      " \n",
      "                Student Name:Sabee \n",
      "                Students Age 27\n"
     ]
    }
   ],
   "source": [
    "for student in students:\n",
    "    if student['name']=='Sabee':\n",
    "        print(f\"\"\" \n",
    "                Student Name:{student['name']} \n",
    "                Students Age {student['age']}\"\"\")\n",
    "    "
   ]
  },
  {
   "cell_type": "code",
   "execution_count": 25,
   "id": "c4a81da7",
   "metadata": {},
   "outputs": [
    {
     "name": "stdout",
     "output_type": "stream",
     "text": [
      "27\n"
     ]
    }
   ],
   "source": [
    "for student in students:    #{'name':'Sabee', 'age':27, 'married':False}\n",
    "    if student['name']=='Sabee':\n",
    "        print(student['age'])\n",
    "    "
   ]
  },
  {
   "cell_type": "code",
   "execution_count": 27,
   "id": "364db295",
   "metadata": {},
   "outputs": [
    {
     "name": "stdout",
     "output_type": "stream",
     "text": [
      "Qalb\n",
      "Sabee\n",
      "Azhan\n"
     ]
    }
   ],
   "source": [
    "for student in students:\n",
    "    if (student['age']>=25) and (student['married']==True):\n",
    "        print(student['name'])"
   ]
  },
  {
   "cell_type": "code",
   "execution_count": 28,
   "id": "2943bd80",
   "metadata": {},
   "outputs": [
    {
     "name": "stdout",
     "output_type": "stream",
     "text": [
      "Qalb\n",
      "Sabee\n",
      "Azhan\n"
     ]
    }
   ],
   "source": [
    "for student in students:\n",
    "    if (student['age']>=25):\n",
    "        if student['married']==True:\n",
    "            print(student['name'])"
   ]
  },
  {
   "cell_type": "code",
   "execution_count": 35,
   "id": "d4845131",
   "metadata": {},
   "outputs": [],
   "source": [
    "students  = [{'name':'Afeef', 'age':15, 'married':False},\n",
    "             {'name':'Hamza', 'age':24, 'married':False},\n",
    "             {'name':'Ali Hassan', 'age':21, 'married':False},\n",
    "             {'name':'Maqsood', 'age':25, 'married':False},\n",
    "             {'name':'Qalb', 'age':30, 'married':True},\n",
    "             {'name':'Sabee', 'age':27, 'married':True},\n",
    "             {'name':'Junaid', 'age':25, 'married':False},\n",
    "             {'name':'Ahmed', 'age':24, 'married':False},\n",
    "             {'name':'Khubaib', 'age':21, 'married':False},\n",
    "             {'name':'Azhan', 'age':25, 'married':True},\n",
    "             {'name':'Kifayat', 'age':20, 'married':False},\n",
    "             {'name':'Mujtaba', 'age':22, 'married':True}]"
   ]
  },
  {
   "cell_type": "code",
   "execution_count": 36,
   "id": "fbaf5d68",
   "metadata": {},
   "outputs": [],
   "source": [
    "for student in students:\n",
    "    if student['age']<25:\n",
    "        student['married']=True"
   ]
  },
  {
   "cell_type": "code",
   "execution_count": 37,
   "id": "d85eac68",
   "metadata": {},
   "outputs": [
    {
     "data": {
      "text/plain": [
       "[{'name': 'Afeef', 'age': 15, 'married': True},\n",
       " {'name': 'Hamza', 'age': 24, 'married': True},\n",
       " {'name': 'Ali Hassan', 'age': 21, 'married': True},\n",
       " {'name': 'Maqsood', 'age': 25, 'married': False},\n",
       " {'name': 'Qalb', 'age': 30, 'married': True},\n",
       " {'name': 'Sabee', 'age': 27, 'married': True},\n",
       " {'name': 'Junaid', 'age': 25, 'married': False},\n",
       " {'name': 'Ahmed', 'age': 24, 'married': True},\n",
       " {'name': 'Khubaib', 'age': 21, 'married': True},\n",
       " {'name': 'Azhan', 'age': 25, 'married': True},\n",
       " {'name': 'Kifayat', 'age': 20, 'married': True},\n",
       " {'name': 'Mujtaba', 'age': 22, 'married': True}]"
      ]
     },
     "execution_count": 37,
     "metadata": {},
     "output_type": "execute_result"
    }
   ],
   "source": [
    "students"
   ]
  },
  {
   "cell_type": "code",
   "execution_count": null,
   "id": "b7ca01aa",
   "metadata": {},
   "outputs": [],
   "source": []
  }
 ],
 "metadata": {
  "kernelspec": {
   "display_name": "Python 3 (ipykernel)",
   "language": "python",
   "name": "python3"
  },
  "language_info": {
   "codemirror_mode": {
    "name": "ipython",
    "version": 3
   },
   "file_extension": ".py",
   "mimetype": "text/x-python",
   "name": "python",
   "nbconvert_exporter": "python",
   "pygments_lexer": "ipython3",
   "version": "3.11.5"
  }
 },
 "nbformat": 4,
 "nbformat_minor": 5
}
