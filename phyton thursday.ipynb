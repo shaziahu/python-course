{
 "cells": [
  {
   "cell_type": "code",
   "execution_count": 11,
   "id": "3252599b",
   "metadata": {},
   "outputs": [
    {
     "name": "stdout",
     "output_type": "stream",
     "text": [
      "this is frist line__this is second line\n"
     ]
    }
   ],
   "source": [
    "print('this is frist line', end ='__')\n",
    "print('this is second line')"
   ]
  },
  {
   "cell_type": "markdown",
   "id": "2a2749d8",
   "metadata": {},
   "source": [
    "# operators"
   ]
  },
  {
   "cell_type": "code",
   "execution_count": 12,
   "id": "c2475cc9",
   "metadata": {},
   "outputs": [
    {
     "name": "stdout",
     "output_type": "stream",
     "text": [
      "15\n",
      "9\n",
      "36\n",
      "4.0\n"
     ]
    }
   ],
   "source": [
    "print(12+3)\n",
    "print(12-3)\n",
    "print(12*3)\n",
    "print(12/3)\n"
   ]
  },
  {
   "cell_type": "code",
   "execution_count": 13,
   "id": "bd34d6bc",
   "metadata": {},
   "outputs": [
    {
     "name": "stdout",
     "output_type": "stream",
     "text": [
      "15.0\n",
      "9.0\n",
      "36.0\n"
     ]
    }
   ],
   "source": [
    "print(12+3.0)\n",
    "print(12-3.0)\n",
    "print(12*3.0)\n"
   ]
  },
  {
   "cell_type": "code",
   "execution_count": 17,
   "id": "becfffc9",
   "metadata": {},
   "outputs": [
    {
     "name": "stdout",
     "output_type": "stream",
     "text": [
      "4\n",
      "3\n"
     ]
    }
   ],
   "source": [
    "print(12//3)\n",
    "print(10//3)"
   ]
  },
  {
   "cell_type": "code",
   "execution_count": 19,
   "id": "92126068",
   "metadata": {},
   "outputs": [
    {
     "name": "stdout",
     "output_type": "stream",
     "text": [
      "5\n"
     ]
    }
   ],
   "source": [
    "print(12%7)"
   ]
  },
  {
   "cell_type": "markdown",
   "id": "56bd5241",
   "metadata": {},
   "source": [
    "# operator precedence"
   ]
  },
  {
   "cell_type": "markdown",
   "id": "5645bf7f",
   "metadata": {},
   "source": [
    "#### .BODMAS (BRACKET OF DIVISION MULTIPLY ADDICATIION SUBTRACTION)\n"
   ]
  },
  {
   "cell_type": "markdown",
   "id": "4cdc4749",
   "metadata": {},
   "source": [
    "#### .PEMDAS (paranthesis of exponents mult div add sub)"
   ]
  },
  {
   "cell_type": "code",
   "execution_count": 20,
   "id": "2ea8c5f7",
   "metadata": {},
   "outputs": [
    {
     "data": {
      "text/plain": [
       "-38698352628"
      ]
     },
     "execution_count": 20,
     "metadata": {},
     "output_type": "execute_result"
    }
   ],
   "source": [
    "12**3//32%4+10-90*(12**2**3)"
   ]
  },
  {
   "cell_type": "markdown",
   "id": "3e86b8e1",
   "metadata": {},
   "source": [
    "- paranthesis \n",
    "- exponents(from right to left )\n",
    "- mult divide (from left to right )\n",
    "- add subs (from left to right )"
   ]
  },
  {
   "cell_type": "markdown",
   "id": "1cb6bcb1",
   "metadata": {},
   "source": [
    "short key of make paragraphs (esc+M - shift+enter)"
   ]
  },
  {
   "cell_type": "markdown",
   "id": "e6096b07",
   "metadata": {},
   "source": [
    "how to delet line (esc +D D)"
   ]
  },
  {
   "cell_type": "markdown",
   "id": "3865854f",
   "metadata": {},
   "source": [
    "# variables "
   ]
  },
  {
   "cell_type": "markdown",
   "id": "9111048f",
   "metadata": {},
   "source": [
    "value>datatypes\n",
    ". string\n",
    ". int \n",
    ". float\n",
    ". boolean\n",
    "\n"
   ]
  },
  {
   "cell_type": "code",
   "execution_count": 22,
   "id": "d41f4b13",
   "metadata": {},
   "outputs": [
    {
     "ename": "NameError",
     "evalue": "name 'true' is not defined",
     "output_type": "error",
     "traceback": [
      "\u001b[1;31m---------------------------------------------------------------------------\u001b[0m",
      "\u001b[1;31mNameError\u001b[0m                                 Traceback (most recent call last)",
      "Cell \u001b[1;32mIn[22], line 4\u001b[0m\n\u001b[0;32m      2\u001b[0m b \u001b[38;5;241m=\u001b[39m \u001b[38;5;241m123\u001b[39m\n\u001b[0;32m      3\u001b[0m c \u001b[38;5;241m=\u001b[39m \u001b[38;5;241m12.2\u001b[39m\n\u001b[1;32m----> 4\u001b[0m d \u001b[38;5;241m=\u001b[39m true\n",
      "\u001b[1;31mNameError\u001b[0m: name 'true' is not defined"
     ]
    }
   ],
   "source": [
    "a ='i love pak army '\n",
    "b = 123\n",
    "c = 12.2\n",
    "d = true\n"
   ]
  },
  {
   "cell_type": "code",
   "execution_count": 23,
   "id": "8d08f587",
   "metadata": {},
   "outputs": [
    {
     "data": {
      "text/plain": [
       "str"
      ]
     },
     "execution_count": 23,
     "metadata": {},
     "output_type": "execute_result"
    }
   ],
   "source": [
    "type(a)\n"
   ]
  },
  {
   "cell_type": "code",
   "execution_count": 24,
   "id": "c66b0bee",
   "metadata": {},
   "outputs": [
    {
     "name": "stdout",
     "output_type": "stream",
     "text": [
      "i love pak army \n",
      "123\n",
      "12.2\n"
     ]
    },
    {
     "ename": "NameError",
     "evalue": "name 'd' is not defined",
     "output_type": "error",
     "traceback": [
      "\u001b[1;31m---------------------------------------------------------------------------\u001b[0m",
      "\u001b[1;31mNameError\u001b[0m                                 Traceback (most recent call last)",
      "Cell \u001b[1;32mIn[24], line 4\u001b[0m\n\u001b[0;32m      2\u001b[0m \u001b[38;5;28mprint\u001b[39m(b)\n\u001b[0;32m      3\u001b[0m \u001b[38;5;28mprint\u001b[39m(c)\n\u001b[1;32m----> 4\u001b[0m \u001b[38;5;28mprint\u001b[39m(d)\n",
      "\u001b[1;31mNameError\u001b[0m: name 'd' is not defined"
     ]
    }
   ],
   "source": [
    "print(a)\n",
    "print(b)\n",
    "print(c)\n",
    "print(d)"
   ]
  },
  {
   "cell_type": "markdown",
   "id": "77d6947a",
   "metadata": {},
   "source": [
    "python is dynamic typed language"
   ]
  },
  {
   "cell_type": "code",
   "execution_count": 25,
   "id": "ca66c0ae",
   "metadata": {},
   "outputs": [
    {
     "name": "stdout",
     "output_type": "stream",
     "text": [
      "123\n"
     ]
    }
   ],
   "source": [
    "print(b)"
   ]
  },
  {
   "cell_type": "code",
   "execution_count": 26,
   "id": "1d81bd02",
   "metadata": {},
   "outputs": [
    {
     "name": "stdout",
     "output_type": "stream",
     "text": [
      "12.2\n"
     ]
    }
   ],
   "source": [
    "print(c)"
   ]
  },
  {
   "cell_type": "code",
   "execution_count": 27,
   "id": "f926adc5",
   "metadata": {},
   "outputs": [],
   "source": [
    "result = b+c"
   ]
  },
  {
   "cell_type": "code",
   "execution_count": 33,
   "id": "cbf7a45b",
   "metadata": {},
   "outputs": [
    {
     "name": "stdout",
     "output_type": "stream",
     "text": [
      "135.2\n"
     ]
    }
   ],
   "source": [
    "print(result)"
   ]
  },
  {
   "cell_type": "markdown",
   "id": "abf79d56",
   "metadata": {},
   "source": [
    "# concatenation "
   ]
  },
  {
   "cell_type": "code",
   "execution_count": 34,
   "id": "6791f222",
   "metadata": {},
   "outputs": [],
   "source": [
    "text1 = 'my name is '\n",
    "text2 = 'azan zafar'"
   ]
  },
  {
   "cell_type": "code",
   "execution_count": 39,
   "id": "9e6666c1",
   "metadata": {},
   "outputs": [
    {
     "data": {
      "text/plain": [
       "'my name is azan zafar'"
      ]
     },
     "execution_count": 39,
     "metadata": {},
     "output_type": "execute_result"
    }
   ],
   "source": [
    "text1+text2"
   ]
  },
  {
   "cell_type": "markdown",
   "id": "92b0f446",
   "metadata": {},
   "source": [
    "# VARIABLES"
   ]
  },
  {
   "cell_type": "code",
   "execution_count": 38,
   "id": "1f5eaa3c",
   "metadata": {},
   "outputs": [],
   "source": [
    "sto = 'how do you create a varaiable '"
   ]
  },
  {
   "cell_type": "code",
   "execution_count": 36,
   "id": "60da0aed",
   "metadata": {},
   "outputs": [
    {
     "name": "stdout",
     "output_type": "stream",
     "text": [
      "how do you create a varaiable \n"
     ]
    }
   ],
   "source": [
    "print(sto)"
   ]
  },
  {
   "cell_type": "code",
   "execution_count": 40,
   "id": "d89ac774",
   "metadata": {},
   "outputs": [],
   "source": [
    "num1 =12\n",
    "num2 =13\n",
    "result = num1+num2\n"
   ]
  },
  {
   "cell_type": "code",
   "execution_count": 41,
   "id": "64c59b2a",
   "metadata": {},
   "outputs": [
    {
     "name": "stdout",
     "output_type": "stream",
     "text": [
      "25\n"
     ]
    }
   ],
   "source": [
    "print(result)"
   ]
  },
  {
   "cell_type": "markdown",
   "id": "153d356d",
   "metadata": {},
   "source": [
    "# user input"
   ]
  },
  {
   "cell_type": "code",
   "execution_count": 43,
   "id": "8d9f94e8",
   "metadata": {},
   "outputs": [
    {
     "name": "stdout",
     "output_type": "stream",
     "text": [
      "enter the frist number 50\n",
      "enter the second number 50\n",
      "100\n"
     ]
    }
   ],
   "source": [
    "num1 =int(input('enter the frist number '))\n",
    "num2 =int(input('enter the second number '))\n",
    "\n",
    "result =num1 +num2\n",
    "\n",
    "print (result)"
   ]
  },
  {
   "cell_type": "code",
   "execution_count": 45,
   "id": "36c8451e",
   "metadata": {},
   "outputs": [
    {
     "name": "stdout",
     "output_type": "stream",
     "text": [
      "enter the your nameazan\n",
      "azan\n"
     ]
    }
   ],
   "source": [
    "text  = input('enter the your name')\n",
    "print(text)"
   ]
  },
  {
   "cell_type": "markdown",
   "id": "11c50a30",
   "metadata": {},
   "source": [
    "# string method"
   ]
  },
  {
   "cell_type": "code",
   "execution_count": 46,
   "id": "9868a0ee",
   "metadata": {},
   "outputs": [],
   "source": [
    "text = 'everyones love pakistan'"
   ]
  },
  {
   "cell_type": "code",
   "execution_count": 47,
   "id": "7ec00ce8",
   "metadata": {},
   "outputs": [
    {
     "data": {
      "text/plain": [
       "'EVERYONES LOVE PAKISTAN'"
      ]
     },
     "execution_count": 47,
     "metadata": {},
     "output_type": "execute_result"
    }
   ],
   "source": [
    "text.upper()"
   ]
  },
  {
   "cell_type": "code",
   "execution_count": 48,
   "id": "1928bc1f",
   "metadata": {},
   "outputs": [
    {
     "data": {
      "text/plain": [
       "'everyones love pakistan'"
      ]
     },
     "execution_count": 48,
     "metadata": {},
     "output_type": "execute_result"
    }
   ],
   "source": [
    "text.lower()"
   ]
  },
  {
   "cell_type": "code",
   "execution_count": 51,
   "id": "f6c65d92",
   "metadata": {},
   "outputs": [
    {
     "data": {
      "text/plain": [
       "'Everyones Love Pakistan'"
      ]
     },
     "execution_count": 51,
     "metadata": {},
     "output_type": "execute_result"
    }
   ],
   "source": [
    "text.title()"
   ]
  },
  {
   "cell_type": "code",
   "execution_count": 52,
   "id": "81558478",
   "metadata": {},
   "outputs": [
    {
     "data": {
      "text/plain": [
       "'Everyones love pakistan'"
      ]
     },
     "execution_count": 52,
     "metadata": {},
     "output_type": "execute_result"
    }
   ],
   "source": [
    "text.capitalize()"
   ]
  },
  {
   "cell_type": "code",
   "execution_count": 53,
   "id": "d303b4e7",
   "metadata": {},
   "outputs": [
    {
     "data": {
      "text/plain": [
       "False"
      ]
     },
     "execution_count": 53,
     "metadata": {},
     "output_type": "execute_result"
    }
   ],
   "source": [
    "text.isalpha()"
   ]
  },
  {
   "cell_type": "code",
   "execution_count": 54,
   "id": "31c2a0a3",
   "metadata": {},
   "outputs": [
    {
     "data": {
      "text/plain": [
       "True"
      ]
     },
     "execution_count": 54,
     "metadata": {},
     "output_type": "execute_result"
    }
   ],
   "source": [
    "text.islower()"
   ]
  },
  {
   "cell_type": "code",
   "execution_count": 55,
   "id": "bdf6380e",
   "metadata": {},
   "outputs": [
    {
     "data": {
      "text/plain": [
       "False"
      ]
     },
     "execution_count": 55,
     "metadata": {},
     "output_type": "execute_result"
    }
   ],
   "source": [
    "text.isupper()"
   ]
  },
  {
   "cell_type": "code",
   "execution_count": 56,
   "id": "11afcd1b",
   "metadata": {},
   "outputs": [],
   "source": [
    "text = 'everyoneslovepakistan'"
   ]
  },
  {
   "cell_type": "code",
   "execution_count": 57,
   "id": "65d78be3",
   "metadata": {},
   "outputs": [
    {
     "data": {
      "text/plain": [
       "True"
      ]
     },
     "execution_count": 57,
     "metadata": {},
     "output_type": "execute_result"
    }
   ],
   "source": [
    "text.isalpha()"
   ]
  },
  {
   "cell_type": "code",
   "execution_count": 60,
   "id": "085560a0",
   "metadata": {},
   "outputs": [],
   "source": [
    "text2 = 'azanzafar123'"
   ]
  },
  {
   "cell_type": "code",
   "execution_count": 61,
   "id": "41b00e6a",
   "metadata": {},
   "outputs": [
    {
     "data": {
      "text/plain": [
       "True"
      ]
     },
     "execution_count": 61,
     "metadata": {},
     "output_type": "execute_result"
    }
   ],
   "source": [
    "text2.isalnum()"
   ]
  },
  {
   "cell_type": "code",
   "execution_count": 62,
   "id": "9a0e7966",
   "metadata": {},
   "outputs": [],
   "source": [
    "x = '564'"
   ]
  },
  {
   "cell_type": "code",
   "execution_count": 63,
   "id": "4cccfbf3",
   "metadata": {},
   "outputs": [
    {
     "data": {
      "text/plain": [
       "True"
      ]
     },
     "execution_count": 63,
     "metadata": {},
     "output_type": "execute_result"
    }
   ],
   "source": [
    "x.isnumeric()"
   ]
  },
  {
   "cell_type": "code",
   "execution_count": 64,
   "id": "680faefe",
   "metadata": {},
   "outputs": [],
   "source": [
    "x = '56.4'"
   ]
  },
  {
   "cell_type": "code",
   "execution_count": 65,
   "id": "aa27f396",
   "metadata": {},
   "outputs": [
    {
     "data": {
      "text/plain": [
       "False"
      ]
     },
     "execution_count": 65,
     "metadata": {},
     "output_type": "execute_result"
    }
   ],
   "source": [
    "x.isdigit()"
   ]
  },
  {
   "cell_type": "code",
   "execution_count": 66,
   "id": "12209a35",
   "metadata": {},
   "outputs": [],
   "source": [
    "x = '564'"
   ]
  },
  {
   "cell_type": "code",
   "execution_count": 67,
   "id": "5d0ecd2e",
   "metadata": {},
   "outputs": [
    {
     "data": {
      "text/plain": [
       "True"
      ]
     },
     "execution_count": 67,
     "metadata": {},
     "output_type": "execute_result"
    }
   ],
   "source": [
    "x.isdigit()"
   ]
  },
  {
   "cell_type": "code",
   "execution_count": 68,
   "id": "36626da8",
   "metadata": {},
   "outputs": [],
   "source": [
    "text = 'pakistan is best'"
   ]
  },
  {
   "cell_type": "code",
   "execution_count": 69,
   "id": "3d04a2cd",
   "metadata": {},
   "outputs": [
    {
     "data": {
      "text/plain": [
       "2"
      ]
     },
     "execution_count": 69,
     "metadata": {},
     "output_type": "execute_result"
    }
   ],
   "source": [
    "text.count(' ')"
   ]
  },
  {
   "cell_type": "code",
   "execution_count": 70,
   "id": "fe21dec0",
   "metadata": {},
   "outputs": [],
   "source": [
    "text = 'PAKISTAN is best'\n"
   ]
  },
  {
   "cell_type": "code",
   "execution_count": 71,
   "id": "4dbe8a97",
   "metadata": {},
   "outputs": [
    {
     "name": "stdout",
     "output_type": "stream",
     "text": [
      "2\n",
      "2\n"
     ]
    }
   ],
   "source": [
    "print(text.count('s'))\n",
    "print(text.count('s'))"
   ]
  },
  {
   "cell_type": "code",
   "execution_count": 72,
   "id": "bc10a10d",
   "metadata": {},
   "outputs": [
    {
     "data": {
      "text/plain": [
       "'PAKISTAN is more more best'"
      ]
     },
     "execution_count": 72,
     "metadata": {},
     "output_type": "execute_result"
    }
   ],
   "source": [
    "text = 'PAKISTAN is very very best'\n",
    "\n",
    "text.replace ('PAKISTAN', 'pakistan')\n",
    "\n",
    "text.replace ('very', 'more')"
   ]
  },
  {
   "cell_type": "markdown",
   "id": "e110e451",
   "metadata": {},
   "source": [
    "#### strings are immuteable"
   ]
  },
  {
   "cell_type": "code",
   "execution_count": 77,
   "id": "1f6f08c2",
   "metadata": {},
   "outputs": [
    {
     "name": "stdout",
     "output_type": "stream",
     "text": [
      "orange price:455\n",
      "banana price:122\n",
      "apple price:456\n",
      "potato price:112\n",
      "mango price:100\n",
      "1245\n"
     ]
    }
   ],
   "source": [
    "orange =int(input('orange price:'))\n",
    "banana =int(input('banana price:'))\n",
    "apple =int(input('apple price:'))\n",
    "potato =int(input('potato price:'))\n",
    "mango =int(input('mango price:'))\n",
    "\n",
    "totalprice = orange + banana + apple + potato + mango\n",
    "\n",
    "print(totalprice)"
   ]
  },
  {
   "cell_type": "markdown",
   "id": "b4784e29",
   "metadata": {},
   "source": [
    "# concatenation"
   ]
  },
  {
   "cell_type": "code",
   "execution_count": 80,
   "id": "7b11c7f7",
   "metadata": {},
   "outputs": [
    {
     "data": {
      "text/plain": [
       "'azan zafar'"
      ]
     },
     "execution_count": 80,
     "metadata": {},
     "output_type": "execute_result"
    }
   ],
   "source": [
    "fname = 'azan'\n",
    "lname = 'zafar'\n",
    "\n",
    "fname +\" \"+ lname"
   ]
  },
  {
   "cell_type": "markdown",
   "id": "ba6d08e0",
   "metadata": {},
   "source": [
    "##### my name is azan zafar. i am student of python programming. i am 19 years old. i live in karachi since 2009."
   ]
  },
  {
   "cell_type": "markdown",
   "id": "b1029e92",
   "metadata": {},
   "source": [
    "### dis"
   ]
  },
  {
   "cell_type": "markdown",
   "id": "8b58304c",
   "metadata": {},
   "source": [
    "### control flow"
   ]
  },
  {
   "cell_type": "markdown",
   "id": "38adc47b",
   "metadata": {},
   "source": [
    "### conditional statement"
   ]
  },
  {
   "attachments": {
    "image.png": {
     "image/png": "[encoded data removed]"
    }
   },
   "cell_type": "markdown",
   "id": "6219585a",
   "metadata": {},
   "source": [
    "![image.png](attachment:image.png)"
   ]
  },
  {
   "cell_type": "code",
   "execution_count": 2,
   "id": "f4a17019",
   "metadata": {},
   "outputs": [
    {
     "ename": "SyntaxError",
     "evalue": "invalid syntax (1890784145.py, line 1)",
     "output_type": "error",
     "traceback": [
      "\u001b[1;36m  Cell \u001b[1;32mIn[2], line 1\u001b[1;36m\u001b[0m\n\u001b[1;33m    we need yo buy a black, dinner , medium size, black, shirt.\u001b[0m\n\u001b[1;37m       ^\u001b[0m\n\u001b[1;31mSyntaxError\u001b[0m\u001b[1;31m:\u001b[0m invalid syntax\n"
     ]
    }
   ],
   "source": [
    "we need yo buy a black, dinner , medium size, black, shirt. "
   ]
  },
  {
   "cell_type": "code",
   "execution_count": 7,
   "id": "3813298a",
   "metadata": {},
   "outputs": [
    {
     "ename": "SyntaxError",
     "evalue": "invalid syntax (4010385700.py, line 11)",
     "output_type": "error",
     "traceback": [
      "\u001b[1;36m  Cell \u001b[1;32mIn[7], line 11\u001b[1;36m\u001b[0m\n\u001b[1;33m    else:\u001b[0m\n\u001b[1;37m    ^\u001b[0m\n\u001b[1;31mSyntaxError\u001b[0m\u001b[1;31m:\u001b[0m invalid syntax\n"
     ]
    }
   ],
   "source": [
    "item = input ('what do you wanna buy?').lower()\n",
    "if item=='shirt':\n",
    "    \n",
    "    brand = input ('what brand of the shirt?').lower()\n",
    "    if brand=='dinner':\n",
    "        \n",
    "        colour = input ('')\n",
    "    else:\n",
    "        print(f'we dont have your {brand}')\n",
    "        \n",
    "        else:\n",
    "        print(f'we dont have this {shirt}')\n",
    "        "
   ]
  },
  {
   "cell_type": "markdown",
   "id": "c3d7f15b",
   "metadata": {},
   "source": [
    "# python list"
   ]
  },
  {
   "cell_type": "code",
   "execution_count": 8,
   "id": "6f0f96cb",
   "metadata": {},
   "outputs": [],
   "source": [
    "student = ['']"
   ]
  },
  {
   "cell_type": "markdown",
   "id": "a267888a",
   "metadata": {},
   "source": [
    "## accessing / retriving value from the list"
   ]
  },
  {
   "cell_type": "code",
   "execution_count": 12,
   "id": "f75f0245",
   "metadata": {},
   "outputs": [],
   "source": [
    "student.append('nasir')"
   ]
  },
  {
   "cell_type": "code",
   "execution_count": 13,
   "id": "850924ae",
   "metadata": {},
   "outputs": [
    {
     "name": "stdout",
     "output_type": "stream",
     "text": [
      "Enter your salary: 5000\n",
      "Enter the number of years you've been with the company: 12\n",
      "Congratulations! Your bonus amount is $250.00\n"
     ]
    }
   ],
   "source": [
    "# Taking user input for salary and years of service\n",
    "salary = float(input(\"Enter your salary: \"))\n",
    "years_of_service = int(input(\"Enter the number of years you've been with the company: \"))\n",
    "\n",
    "# Checking if the years of service are more than 5 to apply the bonus\n",
    "if years_of_service > 5:\n",
    "   \n",
    "    bonus = 0.05 * salary  # Calculating bonus (5% of the salary)\n",
    "    print(f\"Congratulations! Your bonus amount is ${bonus:.2f}\")\n",
    "\n",
    "else:\n",
    "    print(\"Sorry, you are not eligible for a bonus.\")\n"
   ]
  }
 ],
 "metadata": {
  "kernelspec": {
   "display_name": "Python 3 (ipykernel)",
   "language": "python",
   "name": "python3"
  },
  "language_info": {
   "codemirror_mode": {
    "name": "ipython",
    "version": 3
   },
   "file_extension": ".py",
   "mimetype": "text/x-python",
   "name": "python",
   "nbconvert_exporter": "python",
   "pygments_lexer": "ipython3",
   "version": "3.11.5"
  }
 },
 "nbformat": 4,
 "nbformat_minor": 5
}
