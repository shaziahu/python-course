{
 "cells": [
  {
   "cell_type": "markdown",
   "id": "32d7420a",
   "metadata": {},
   "source": [
    "##### passing a list"
   ]
  },
  {
   "cell_type": "code",
   "execution_count": 8,
   "id": "0c2e8e09",
   "metadata": {},
   "outputs": [
    {
     "ename": "SyntaxError",
     "evalue": "invalid non-printable character U+00A0 (385178684.py, line 9)",
     "output_type": "error",
     "traceback": [
      "\u001b[1;36m  Cell \u001b[1;32mIn[8], line 9\u001b[1;36m\u001b[0m\n\u001b[1;33m    }\u001b[0m\n\u001b[1;37m    ^\u001b[0m\n\u001b[1;31mSyntaxError\u001b[0m\u001b[1;31m:\u001b[0m invalid non-printable character U+00A0\n"
     ]
    }
   ],
   "source": [
    "students=\n",
    "         {\n",
    "          \"st1\":{'name':'Nasir','roll':123,'age':21,'course':'python'},\n",
    "          \"st2\":{'name':'Asad','roll':124,'age':20,'course':'mobile'},\n",
    "          \"st3\":{'name':'Yasir','roll':125,'age':30,'course':'python'},\n",
    "          \"st4\":{'name':'Umer','roll':126,'age':19,'course':'web'},\n",
    "          \"st5\":{'name':'faisal','roll':127,'age':20,'course':'mobile'},\n",
    "          \"st6\":{'name':'tahir','roll':128,'age':41,'course':'python'}\n",
    "         }"
   ]
  },
  {
   "cell_type": "code",
   "execution_count": 4,
   "id": "3bad6342",
   "metadata": {},
   "outputs": [],
   "source": [
    "def add_email_id(dic):\n",
    "    for key in dic:\n",
    "        dic[key]['email'] = f\"{dic[key]['name']}{dic[key]['roll']}@gmail.com\"\n",
    "    return dic"
   ]
  },
  {
   "cell_type": "code",
   "execution_count": 7,
   "id": "b73ab0ba",
   "metadata": {},
   "outputs": [
    {
     "ename": "NameError",
     "evalue": "name 'students' is not defined",
     "output_type": "error",
     "traceback": [
      "\u001b[1;31m---------------------------------------------------------------------------\u001b[0m",
      "\u001b[1;31mNameError\u001b[0m                                 Traceback (most recent call last)",
      "Cell \u001b[1;32mIn[7], line 1\u001b[0m\n\u001b[1;32m----> 1\u001b[0m \u001b[38;5;28mprint\u001b[39m(add_email_id(students))\n",
      "\u001b[1;31mNameError\u001b[0m: name 'students' is not defined"
     ]
    }
   ],
   "source": [
    "print(add_email_id(students))"
   ]
  },
  {
   "cell_type": "code",
   "execution_count": 22,
   "id": "86802525",
   "metadata": {},
   "outputs": [],
   "source": [
    "def alldigitseven(lst):\n",
    "    for num in lst:\n",
    "        if int(num[0])%2==0:\n",
    "            if int(num[1])%2==0:\n",
    "                if int(num[2])%2==0:\n",
    "                    if int(num[3])%2==0:\n",
    "                        allevens.append(num)\n",
    "    return allevens"
   ]
  },
  {
   "cell_type": "code",
   "execution_count": 23,
   "id": "09e8eded",
   "metadata": {},
   "outputs": [],
   "source": [
    "nums = list(range(1000,3001))"
   ]
  },
  {
   "cell_type": "code",
   "execution_count": 24,
   "id": "43e9c315",
   "metadata": {},
   "outputs": [
    {
     "ename": "TypeError",
     "evalue": "'int' object is not subscriptable",
     "output_type": "error",
     "traceback": [
      "\u001b[1;31m---------------------------------------------------------------------------\u001b[0m",
      "\u001b[1;31mTypeError\u001b[0m                                 Traceback (most recent call last)",
      "Cell \u001b[1;32mIn[24], line 1\u001b[0m\n\u001b[1;32m----> 1\u001b[0m alldigitseven(nums)\n",
      "Cell \u001b[1;32mIn[22], line 3\u001b[0m, in \u001b[0;36malldigitseven\u001b[1;34m(lst)\u001b[0m\n\u001b[0;32m      1\u001b[0m \u001b[38;5;28;01mdef\u001b[39;00m \u001b[38;5;21malldigitseven\u001b[39m(lst):\n\u001b[0;32m      2\u001b[0m     \u001b[38;5;28;01mfor\u001b[39;00m num \u001b[38;5;129;01min\u001b[39;00m lst:\n\u001b[1;32m----> 3\u001b[0m         \u001b[38;5;28;01mif\u001b[39;00m \u001b[38;5;28mint\u001b[39m(num[\u001b[38;5;241m0\u001b[39m])\u001b[38;5;241m%\u001b[39m\u001b[38;5;241m2\u001b[39m\u001b[38;5;241m==\u001b[39m\u001b[38;5;241m0\u001b[39m:\n\u001b[0;32m      4\u001b[0m             \u001b[38;5;28;01mif\u001b[39;00m \u001b[38;5;28mint\u001b[39m(num[\u001b[38;5;241m1\u001b[39m])\u001b[38;5;241m%\u001b[39m\u001b[38;5;241m2\u001b[39m\u001b[38;5;241m==\u001b[39m\u001b[38;5;241m0\u001b[39m:\n\u001b[0;32m      5\u001b[0m                 \u001b[38;5;28;01mif\u001b[39;00m \u001b[38;5;28mint\u001b[39m(num[\u001b[38;5;241m2\u001b[39m])\u001b[38;5;241m%\u001b[39m\u001b[38;5;241m2\u001b[39m\u001b[38;5;241m==\u001b[39m\u001b[38;5;241m0\u001b[39m:\n",
      "\u001b[1;31mTypeError\u001b[0m: 'int' object is not subscriptable"
     ]
    }
   ],
   "source": [
    "alldigitseven(nums)"
   ]
  },
  {
   "cell_type": "code",
   "execution_count": 25,
   "id": "77d46c35",
   "metadata": {},
   "outputs": [
    {
     "data": {
      "text/plain": [
       "36"
      ]
     },
     "execution_count": 25,
     "metadata": {},
     "output_type": "execute_result"
    }
   ],
   "source": [
    "int ('100100',2)"
   ]
  },
  {
   "cell_type": "code",
   "execution_count": 26,
   "id": "26952a2f",
   "metadata": {},
   "outputs": [
    {
     "data": {
      "text/plain": [
       "'0b100100'"
      ]
     },
     "execution_count": 26,
     "metadata": {},
     "output_type": "execute_result"
    }
   ],
   "source": [
    "bin(36)"
   ]
  },
  {
   "cell_type": "code",
   "execution_count": 28,
   "id": "4644a616",
   "metadata": {},
   "outputs": [
    {
     "name": "stdout",
     "output_type": "stream",
     "text": [
      "enter 4 comma separated binary digits of size 41010,0011,1001,0100\n"
     ]
    }
   ],
   "source": [
    "binary_number = input(\"enter 4 comma separated binary digits of size 4\").split(',')"
   ]
  },
  {
   "cell_type": "code",
   "execution_count": 29,
   "id": "91e2cfc7",
   "metadata": {},
   "outputs": [
    {
     "ename": "NameError",
     "evalue": "name 'binary_nums' is not defined",
     "output_type": "error",
     "traceback": [
      "\u001b[1;31m---------------------------------------------------------------------------\u001b[0m",
      "\u001b[1;31mNameError\u001b[0m                                 Traceback (most recent call last)",
      "Cell \u001b[1;32mIn[29], line 1\u001b[0m\n\u001b[1;32m----> 1\u001b[0m binary_nums\n",
      "\u001b[1;31mNameError\u001b[0m: name 'binary_nums' is not defined"
     ]
    }
   ],
   "source": [
    "binary_nums"
   ]
  },
  {
   "cell_type": "code",
   "execution_count": null,
   "id": "99f80929",
   "metadata": {},
   "outputs": [],
   "source": []
  }
 ],
 "metadata": {
  "kernelspec": {
   "display_name": "Python 3 (ipykernel)",
   "language": "python",
   "name": "python3"
  },
  "language_info": {
   "codemirror_mode": {
    "name": "ipython",
    "version": 3
   },
   "file_extension": ".py",
   "mimetype": "text/x-python",
   "name": "python",
   "nbconvert_exporter": "python",
   "pygments_lexer": "ipython3",
   "version": "3.11.5"
  }
 },
 "nbformat": 4,
 "nbformat_minor": 5
}
