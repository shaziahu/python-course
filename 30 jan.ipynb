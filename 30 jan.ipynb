{
 "cells": [
  {
   "cell_type": "code",
   "execution_count": 8,
   "id": "ac4050ba",
   "metadata": {},
   "outputs": [],
   "source": [
    "def build_person(frist_name, last_name, age):\n",
    "    \n",
    "    if age:\n",
    "          person = {'frist': frist_name, 'last': last_name, \"age\": age}\n",
    "    else:\n",
    "        person = {'frist': frist_name, 'last': last_name}\n",
    "   \n",
    "    return person"
   ]
  },
  {
   "cell_type": "code",
   "execution_count": 9,
   "id": "ebdb9d8a",
   "metadata": {},
   "outputs": [
    {
     "data": {
      "text/plain": [
       "{'frist': 'azan', 'last': 'zafar', 'age': '20'}"
      ]
     },
     "execution_count": 9,
     "metadata": {},
     "output_type": "execute_result"
    }
   ],
   "source": [
    "build_person(\"azan\",\"zafar\",\"20\")"
   ]
  },
  {
   "cell_type": "code",
   "execution_count": 19,
   "id": "54c617c0",
   "metadata": {},
   "outputs": [],
   "source": [
    "def make_album(album_name, artist_title):\n",
    "    album = {'album': album_name, 'artist': artist_title}\n",
    "    \n",
    "    return album"
   ]
  },
  {
   "cell_type": "code",
   "execution_count": 20,
   "id": "f783c1b8",
   "metadata": {},
   "outputs": [
    {
     "data": {
      "text/plain": [
       "{'album': 'hello', 'artist': 'ali'}"
      ]
     },
     "execution_count": 20,
     "metadata": {},
     "output_type": "execute_result"
    }
   ],
   "source": [
    "make_album(\"hello\",\"ali\")"
   ]
  },
  {
   "cell_type": "code",
   "execution_count": null,
   "id": "0dfc6b02",
   "metadata": {},
   "outputs": [],
   "source": []
  }
 ],
 "metadata": {
  "kernelspec": {
   "display_name": "Python 3 (ipykernel)",
   "language": "python",
   "name": "python3"
  },
  "language_info": {
   "codemirror_mode": {
    "name": "ipython",
    "version": 3
   },
   "file_extension": ".py",
   "mimetype": "text/x-python",
   "name": "python",
   "nbconvert_exporter": "python",
   "pygments_lexer": "ipython3",
   "version": "3.11.5"
  }
 },
 "nbformat": 4,
 "nbformat_minor": 5
}
