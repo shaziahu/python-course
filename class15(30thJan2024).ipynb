{
 "cells": [
  {
   "cell_type": "markdown",
   "id": "028a57ea",
   "metadata": {},
   "source": [
    "# Positional Arguments"
   ]
  },
  {
   "cell_type": "code",
   "execution_count": 2,
   "id": "17f9e963",
   "metadata": {},
   "outputs": [],
   "source": [
    "def describe_pet(animal_type, pet_name):\n",
    "    print(\"\\nI have a \" + animal_type + \".\")\n",
    "    print(\"My \" + animal_type + \"'s name is \" + pet_name.title() + \".\")\n"
   ]
  },
  {
   "cell_type": "code",
   "execution_count": 3,
   "id": "395198c1",
   "metadata": {},
   "outputs": [
    {
     "name": "stdout",
     "output_type": "stream",
     "text": [
      "\n",
      "I have a hamster.\n",
      "My hamster's name is Harry.\n"
     ]
    }
   ],
   "source": [
    "describe_pet('hamster', 'harry')"
   ]
  },
  {
   "cell_type": "code",
   "execution_count": 4,
   "id": "edf58ef6",
   "metadata": {},
   "outputs": [
    {
     "name": "stdout",
     "output_type": "stream",
     "text": [
      "\n",
      "I have a harry.\n",
      "My harry's name is Hamster.\n"
     ]
    }
   ],
   "source": [
    "describe_pet('harry', 'hamster')"
   ]
  },
  {
   "cell_type": "markdown",
   "id": "131c9ea6",
   "metadata": {},
   "source": [
    "# Keyword Arguments"
   ]
  },
  {
   "cell_type": "code",
   "execution_count": 5,
   "id": "e30dce38",
   "metadata": {},
   "outputs": [
    {
     "name": "stdout",
     "output_type": "stream",
     "text": [
      "\n",
      "I have a hamster.\n",
      "My hamster's name is Harry.\n"
     ]
    }
   ],
   "source": [
    "describe_pet(animal_type='hamster', pet_name='harry')"
   ]
  },
  {
   "cell_type": "markdown",
   "id": "9e61c4d2",
   "metadata": {},
   "source": [
    "# Default Values"
   ]
  },
  {
   "cell_type": "code",
   "execution_count": 6,
   "id": "77078cf4",
   "metadata": {},
   "outputs": [
    {
     "ename": "TypeError",
     "evalue": "describe_pet() missing 1 required positional argument: 'pet_name'",
     "output_type": "error",
     "traceback": [
      "\u001b[1;31m---------------------------------------------------------------------------\u001b[0m",
      "\u001b[1;31mTypeError\u001b[0m                                 Traceback (most recent call last)",
      "Cell \u001b[1;32mIn[6], line 1\u001b[0m\n\u001b[1;32m----> 1\u001b[0m describe_pet(\u001b[38;5;124m'\u001b[39m\u001b[38;5;124mharry\u001b[39m\u001b[38;5;124m'\u001b[39m)\n",
      "\u001b[1;31mTypeError\u001b[0m: describe_pet() missing 1 required positional argument: 'pet_name'"
     ]
    }
   ],
   "source": [
    "describe_pet('harry')"
   ]
  },
  {
   "cell_type": "code",
   "execution_count": 7,
   "id": "6eb13c65",
   "metadata": {},
   "outputs": [],
   "source": [
    "def describe_pet(animal_type, pet_name=\"Toomy\"):\n",
    "    print(\"\\nI have a \" + animal_type + \".\")\n",
    "    print(\"My \" + animal_type + \"'s name is \" + pet_name.title() + \".\")\n"
   ]
  },
  {
   "cell_type": "code",
   "execution_count": 8,
   "id": "eac81368",
   "metadata": {},
   "outputs": [
    {
     "name": "stdout",
     "output_type": "stream",
     "text": [
      "\n",
      "I have a hamster.\n",
      "My hamster's name is Harry.\n"
     ]
    }
   ],
   "source": [
    "describe_pet(animal_type='hamster', pet_name='harry')"
   ]
  },
  {
   "cell_type": "code",
   "execution_count": 9,
   "id": "d485a7b6",
   "metadata": {},
   "outputs": [
    {
     "name": "stdout",
     "output_type": "stream",
     "text": [
      "\n",
      "I have a hamster.\n",
      "My hamster's name is Toomy.\n"
     ]
    }
   ],
   "source": [
    "describe_pet(animal_type='hamster')"
   ]
  },
  {
   "cell_type": "code",
   "execution_count": 10,
   "id": "8cd11abd",
   "metadata": {},
   "outputs": [],
   "source": [
    "def make_shirt(size,text):\n",
    "    print(f'''The size of shirt is {size} \n",
    "         and message is {text}''')\n",
    "    "
   ]
  },
  {
   "cell_type": "code",
   "execution_count": 11,
   "id": "aaf2cef9",
   "metadata": {},
   "outputs": [
    {
     "name": "stdout",
     "output_type": "stream",
     "text": [
      "The size of shirt is large \n",
      "         and message is Ilove pakistan\n"
     ]
    }
   ],
   "source": [
    "make_shirt(\"large\",\"Ilove pakistan\")"
   ]
  },
  {
   "cell_type": "code",
   "execution_count": 13,
   "id": "a6ba1003",
   "metadata": {},
   "outputs": [
    {
     "name": "stdout",
     "output_type": "stream",
     "text": [
      "The size of shirt is small \n",
      "         and message is Ilove pakistan\n"
     ]
    }
   ],
   "source": [
    "make_shirt(size=\"small\",text=\"Ilove pakistan\")"
   ]
  },
  {
   "cell_type": "code",
   "execution_count": null,
   "id": "e51122c2",
   "metadata": {},
   "outputs": [],
   "source": []
  },
  {
   "cell_type": "code",
   "execution_count": 14,
   "id": "185b2891",
   "metadata": {},
   "outputs": [],
   "source": [
    "def make_shirt(size=\"Large\",text=\"I LOve Python\"):\n",
    "    print(f'''The size of shirt is {size} \n",
    "         and message is {text}''')\n"
   ]
  },
  {
   "cell_type": "code",
   "execution_count": 16,
   "id": "e76b1772",
   "metadata": {},
   "outputs": [
    {
     "name": "stdout",
     "output_type": "stream",
     "text": [
      "The size of shirt is Large \n",
      "         and message is Ilove pakistan\n"
     ]
    }
   ],
   "source": [
    "make_shirt(text=\"Ilove pakistan\")"
   ]
  },
  {
   "cell_type": "code",
   "execution_count": 17,
   "id": "65d0625c",
   "metadata": {},
   "outputs": [
    {
     "name": "stdout",
     "output_type": "stream",
     "text": [
      "The size of shirt is Large \n",
      "         and message is I LOve Python\n"
     ]
    }
   ],
   "source": [
    "make_shirt()"
   ]
  },
  {
   "cell_type": "code",
   "execution_count": 18,
   "id": "c52ed4ee",
   "metadata": {},
   "outputs": [
    {
     "name": "stdout",
     "output_type": "stream",
     "text": [
      "The size of shirt is Medium \n",
      "         and message is I LOve Python\n"
     ]
    }
   ],
   "source": [
    "make_shirt(\"Medium\")"
   ]
  },
  {
   "cell_type": "code",
   "execution_count": 19,
   "id": "cd86cf04",
   "metadata": {},
   "outputs": [],
   "source": [
    "def get_formatted_name(first_name, middle_name, last_name):\n",
    "\n",
    "    full_name = first_name + ' ' + middle_name + ' ' + last_name\n",
    "    return full_name.title()"
   ]
  },
  {
   "cell_type": "code",
   "execution_count": 20,
   "id": "c9725e03",
   "metadata": {},
   "outputs": [
    {
     "name": "stdout",
     "output_type": "stream",
     "text": [
      "John Lee Hooker\n"
     ]
    }
   ],
   "source": [
    "musician = get_formatted_name('john', 'lee', 'hooker')\n",
    "print(musician)"
   ]
  },
  {
   "cell_type": "code",
   "execution_count": 31,
   "id": "6ab33ca1",
   "metadata": {},
   "outputs": [],
   "source": [
    "def get_formatted_name(first_name, last_name, middle_name='' ):\n",
    "    if middle_name:\n",
    "        full_name = first_name + ' ' + middle_name + ' ' + last_name\n",
    "    else:\n",
    "        full_name = first_name + ' ' + last_name\n",
    "    return full_name.title()"
   ]
  },
  {
   "cell_type": "code",
   "execution_count": 30,
   "id": "4d4f9390",
   "metadata": {},
   "outputs": [
    {
     "name": "stdout",
     "output_type": "stream",
     "text": [
      "Jimi Hendrix\n"
     ]
    }
   ],
   "source": [
    "musician = get_formatted_name('jimi', 'hendrix')\n",
    "print(musician)\n"
   ]
  },
  {
   "cell_type": "code",
   "execution_count": 24,
   "id": "3dd4aef7",
   "metadata": {},
   "outputs": [
    {
     "name": "stdout",
     "output_type": "stream",
     "text": [
      "John Lee Hooker\n"
     ]
    }
   ],
   "source": [
    "musician = get_formatted_name('john', 'hooker', 'lee')\n",
    "print(musician)"
   ]
  },
  {
   "cell_type": "code",
   "execution_count": 34,
   "id": "cdc501bd",
   "metadata": {},
   "outputs": [],
   "source": [
    "def build_person(first_name, last_name):\n",
    "    person = {'first': first_name, 'last': last_name}\n",
    "    return person"
   ]
  },
  {
   "cell_type": "code",
   "execution_count": 35,
   "id": "ee7e52f4",
   "metadata": {},
   "outputs": [
    {
     "name": "stdout",
     "output_type": "stream",
     "text": [
      "{'first': 'jimi', 'last': 'hendrix'}\n"
     ]
    }
   ],
   "source": [
    "musician = build_person('jimi', 'hendrix')\n",
    "print(musician)"
   ]
  },
  {
   "cell_type": "code",
   "execution_count": 56,
   "id": "cfa00d29",
   "metadata": {},
   "outputs": [],
   "source": [
    "list_person=[]\n",
    "def build_person(first_name, last_name, age=\"\"):    \n",
    "    if age:\n",
    "        person = {'first': first_name, \"age\":age, 'last': last_name}\n",
    "    else:\n",
    "        person = {'first': first_name, 'last': last_name}       \n",
    "    list_person.append(person)\n",
    "    return list_person"
   ]
  },
  {
   "cell_type": "code",
   "execution_count": 57,
   "id": "a6644d1d",
   "metadata": {},
   "outputs": [
    {
     "data": {
      "text/plain": [
       "[{'first': 'Furqan', 'last': 'Mumtaz'}]"
      ]
     },
     "execution_count": 57,
     "metadata": {},
     "output_type": "execute_result"
    }
   ],
   "source": [
    "build_person(\"Furqan\",\"Mumtaz\",)"
   ]
  },
  {
   "cell_type": "code",
   "execution_count": 58,
   "id": "88c9bf4c",
   "metadata": {},
   "outputs": [
    {
     "data": {
      "text/plain": [
       "[{'first': 'Furqan', 'last': 'Mumtaz'},\n",
       " {'first': 'Furqan', 'age': '19.5', 'last': 'Mumtaz'}]"
      ]
     },
     "execution_count": 58,
     "metadata": {},
     "output_type": "execute_result"
    }
   ],
   "source": [
    "build_person(\"Furqan\",\"Mumtaz\",\"19.5\")"
   ]
  },
  {
   "cell_type": "markdown",
   "id": "4de1fc99",
   "metadata": {},
   "source": [
    "# Using a Function with a while Loop"
   ]
  },
  {
   "cell_type": "code",
   "execution_count": 1,
   "id": "c59c1546",
   "metadata": {},
   "outputs": [
    {
     "name": "stdout",
     "output_type": "stream",
     "text": [
      "Enter first namejunaid\n",
      "Enter last namenasir\n",
      "Enter age45\n",
      "[{'first': 'junaid', 'age': '45', 'last': 'nasir'}]\n",
      "Enter first nameali\n",
      "Enter last namekhan\n",
      "Enter age34\n",
      "[{'first': 'junaid', 'age': '45', 'last': 'nasir'}, {'first': 'ali', 'age': '34', 'last': 'khan'}]\n",
      "Enter first nameq\n"
     ]
    }
   ],
   "source": [
    "def build_person(first_name, last_name, age=\"\"):    \n",
    "    if age:\n",
    "        person = {'first': first_name, \"age\":age, 'last': last_name}\n",
    "    else:\n",
    "        person = {'first': first_name, 'last': last_name}       \n",
    "    \n",
    "    return person\n",
    "\n",
    "list_person= []\n",
    "while True:\n",
    "    fname = input(\"Enter first name\")\n",
    "    if fname=='q':\n",
    "        break\n",
    "    lname = input(\"Enter last name\")\n",
    "    if lname=='q':\n",
    "        break\n",
    "    age = input(\"Enter age\")\n",
    "    if age=='q':\n",
    "        break   \n",
    "    list_person.append(build_person(fname,lname,age))\n",
    "     \n",
    "    print(list_person)\n"
   ]
  },
  {
   "cell_type": "code",
   "execution_count": 2,
   "id": "ad5ef3ad",
   "metadata": {},
   "outputs": [
    {
     "data": {
      "text/plain": [
       "{'first': 'asad', 'last': 'lareb'}"
      ]
     },
     "execution_count": 2,
     "metadata": {},
     "output_type": "execute_result"
    }
   ],
   "source": [
    "build_person('asad','lareb')"
   ]
  },
  {
   "cell_type": "code",
   "execution_count": 3,
   "id": "750e9dd8",
   "metadata": {},
   "outputs": [
    {
     "data": {
      "text/plain": [
       "{'artist_name': 'Ali', 'album_title': 'Meri Shadi Karao'}"
      ]
     },
     "execution_count": 3,
     "metadata": {},
     "output_type": "execute_result"
    }
   ],
   "source": [
    "def make_album(artist_name, album_title):\n",
    "    return {'artist_name':artist_name, 'album_title':album_title}\n"
   ]
  },
  {
   "cell_type": "code",
   "execution_count": 4,
   "id": "81d9e5af",
   "metadata": {},
   "outputs": [
    {
     "name": "stdout",
     "output_type": "stream",
     "text": [
      "{'artist_name': 'Ali', 'album_title': 'Meri Shadi Karao'}\n",
      "{'artist_name': 'Aslam', 'album_title': 'Meri Shadi Karao'}\n",
      "{'artist_name': 'Faisal', 'album_title': 'Meri Shadi Karao'}\n"
     ]
    }
   ],
   "source": [
    "print(make_album('Ali', 'Meri Shadi Karao'))\n",
    "print(make_album('Aslam', 'Meri Shadi Karao'))\n",
    "print(make_album('Faisal', 'Meri Shadi Karao'))"
   ]
  },
  {
   "cell_type": "code",
   "execution_count": 5,
   "id": "a1bca76c",
   "metadata": {},
   "outputs": [],
   "source": [
    "def make_album(artist_name, album_title, tracks=''):\n",
    "    if tracks:        \n",
    "        return {'artist_name':artist_name, 'album_title':album_title, 'tracks':tracks}\n",
    "    else:\n",
    "        return {'artist_name':artist_name, 'album_title':album_title}\n"
   ]
  },
  {
   "cell_type": "code",
   "execution_count": 6,
   "id": "af3c3d89",
   "metadata": {},
   "outputs": [
    {
     "name": "stdout",
     "output_type": "stream",
     "text": [
      "{'artist_name': 'Ali', 'album_title': 'Meri Shadi Karao'}\n"
     ]
    }
   ],
   "source": [
    "print(make_album('Ali', 'Meri Shadi Karao'))"
   ]
  },
  {
   "cell_type": "code",
   "execution_count": 7,
   "id": "06e574f6",
   "metadata": {},
   "outputs": [
    {
     "name": "stdout",
     "output_type": "stream",
     "text": [
      "{'artist_name': 'Ali', 'album_title': 'Meri Shadi Karao', 'tracks': 10}\n"
     ]
    }
   ],
   "source": [
    "print(make_album('Ali', 'Meri Shadi Karao', 10))"
   ]
  },
  {
   "cell_type": "code",
   "execution_count": 9,
   "id": "6a2dfe56",
   "metadata": {},
   "outputs": [
    {
     "name": "stdout",
     "output_type": "stream",
     "text": [
      "My Album Library\n",
      "Press yes if you want to upload your albumyes\n",
      "Artist NameAli Bhai\n",
      "Album TitleSuaad Agaya\n",
      "Enter Number of tracks in album10\n",
      "{'artist_name': 'Ali Bhai', 'album_title': 'Suaad Agaya', 'tracks': '10'}\n",
      "Press yes if you want to upload your albumyes\n",
      "Artist NamePankaj Udhas\n",
      "Album TitleUdas Hy\n",
      "Enter Number of tracks in album5\n",
      "{'artist_name': 'Pankaj Udhas', 'album_title': 'Udas Hy', 'tracks': '5'}\n",
      "Press yes if you want to upload your albumno\n"
     ]
    }
   ],
   "source": [
    "print(\"My Album Library\")\n",
    "while True:\n",
    "    \n",
    "    start = input(\"Press yes if you want to upload your album\").lower()\n",
    "    if start=='yes':\n",
    "        artist_name = input(\"Artist Name\")\n",
    "        album_title = input(\"Album Title\")\n",
    "        tracks = input(\"Enter Number of tracks in album\")\n",
    "        print(make_album(artist_name,album_title,tracks))\n",
    "    else:\n",
    "        break\n",
    "   "
   ]
  },
  {
   "cell_type": "code",
   "execution_count": null,
   "id": "1f1bfca9",
   "metadata": {},
   "outputs": [],
   "source": []
  }
 ],
 "metadata": {
  "kernelspec": {
   "display_name": "Python 3 (ipykernel)",
   "language": "python",
   "name": "python3"
  },
  "language_info": {
   "codemirror_mode": {
    "name": "ipython",
    "version": 3
   },
   "file_extension": ".py",
   "mimetype": "text/x-python",
   "name": "python",
   "nbconvert_exporter": "python",
   "pygments_lexer": "ipython3",
   "version": "3.11.5"
  }
 },
 "nbformat": 4,
 "nbformat_minor": 5
}
