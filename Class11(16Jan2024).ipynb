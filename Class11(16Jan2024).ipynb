{
 "cells": [
  {
   "cell_type": "markdown",
   "id": "ea91be30",
   "metadata": {},
   "source": [
    "# Functions\n",
    " - Functions are block of code. That is reuseable. \n",
    " - When ever we require to that task again we call the function."
   ]
  },
  {
   "cell_type": "code",
   "execution_count": 29,
   "id": "241ef4de",
   "metadata": {},
   "outputs": [],
   "source": [
    "def tandoor():\n",
    "    kitne_Nan = int(input(\"KITNE Nan\"))\n",
    "    for nan in range(1,kitne_Nan+1):\n",
    "        print(f\"{nan} ready hen\")\n",
    "    print(f\"{kitne_Nan*25} rupey hogaye\")\n"
   ]
  },
  {
   "cell_type": "code",
   "execution_count": 30,
   "id": "aa892f37",
   "metadata": {},
   "outputs": [
    {
     "name": "stdout",
     "output_type": "stream",
     "text": [
      "KITNE Nan5\n",
      "1 ready hen\n",
      "2 ready hen\n",
      "3 ready hen\n",
      "4 ready hen\n",
      "5 ready hen\n",
      "125 rupey hogaye\n"
     ]
    }
   ],
   "source": [
    "tandoor()"
   ]
  },
  {
   "cell_type": "code",
   "execution_count": 14,
   "id": "ac1ec464",
   "metadata": {},
   "outputs": [
    {
     "name": "stdout",
     "output_type": "stream",
     "text": [
      "4 ready hen\n",
      "100 rupey hogaye\n"
     ]
    }
   ],
   "source": [
    "tandoor(4)"
   ]
  },
  {
   "cell_type": "code",
   "execution_count": 15,
   "id": "fd4abfc2",
   "metadata": {},
   "outputs": [
    {
     "name": "stdout",
     "output_type": "stream",
     "text": [
      "5 ready hen\n",
      "125 rupey hogaye\n"
     ]
    }
   ],
   "source": [
    "tandoor(5)"
   ]
  },
  {
   "cell_type": "code",
   "execution_count": 31,
   "id": "4cdc2c7b",
   "metadata": {},
   "outputs": [],
   "source": [
    "def add():\n",
    "    print(2+3)"
   ]
  },
  {
   "cell_type": "code",
   "execution_count": 32,
   "id": "a1f5f5a1",
   "metadata": {},
   "outputs": [
    {
     "name": "stdout",
     "output_type": "stream",
     "text": [
      "5\n"
     ]
    }
   ],
   "source": [
    "add()"
   ]
  },
  {
   "cell_type": "code",
   "execution_count": 33,
   "id": "6dea5dc9",
   "metadata": {},
   "outputs": [
    {
     "name": "stdout",
     "output_type": "stream",
     "text": [
      "5\n"
     ]
    }
   ],
   "source": [
    "add()"
   ]
  },
  {
   "cell_type": "code",
   "execution_count": 34,
   "id": "a16628a3",
   "metadata": {},
   "outputs": [
    {
     "name": "stdout",
     "output_type": "stream",
     "text": [
      "5\n"
     ]
    }
   ],
   "source": [
    "add()"
   ]
  },
  {
   "cell_type": "code",
   "execution_count": 35,
   "id": "6d9decad",
   "metadata": {},
   "outputs": [
    {
     "name": "stdout",
     "output_type": "stream",
     "text": [
      "5\n"
     ]
    }
   ],
   "source": [
    "add()"
   ]
  },
  {
   "cell_type": "code",
   "execution_count": 36,
   "id": "0d56ee86",
   "metadata": {},
   "outputs": [],
   "source": [
    "def add(a,b): # a and b are parameters\n",
    "    print(a+b)"
   ]
  },
  {
   "cell_type": "code",
   "execution_count": 42,
   "id": "d5695470",
   "metadata": {},
   "outputs": [
    {
     "name": "stdout",
     "output_type": "stream",
     "text": [
      "5\n"
     ]
    }
   ],
   "source": [
    "add(2,3) # no's are positional arguments\n",
    "# shift + tab to open function's signature"
   ]
  },
  {
   "cell_type": "code",
   "execution_count": 38,
   "id": "da26766f",
   "metadata": {},
   "outputs": [
    {
     "name": "stdout",
     "output_type": "stream",
     "text": [
      "7\n"
     ]
    }
   ],
   "source": [
    "add(4,3)"
   ]
  },
  {
   "cell_type": "code",
   "execution_count": 43,
   "id": "87e18427",
   "metadata": {},
   "outputs": [],
   "source": [
    "def receptionist(lst):\n",
    "    for guest in lst:\n",
    "        print(f\"Welcome to SMIT: {guest}\")  \n",
    "    "
   ]
  },
  {
   "cell_type": "code",
   "execution_count": 44,
   "id": "281b5149",
   "metadata": {},
   "outputs": [
    {
     "name": "stdout",
     "output_type": "stream",
     "text": [
      "Welcome to SMIT: Ali\n",
      "Welcome to SMIT: Nasir\n",
      "Welcome to SMIT: Ahsun\n"
     ]
    }
   ],
   "source": [
    "receptionist(['Ali', 'Nasir', 'Ahsun'])"
   ]
  },
  {
   "cell_type": "code",
   "execution_count": 45,
   "id": "04c34650",
   "metadata": {},
   "outputs": [
    {
     "name": "stdout",
     "output_type": "stream",
     "text": [
      "Welcome to SMIT: Rehan\n",
      "Welcome to SMIT: Ahmed\n",
      "Welcome to SMIT: Areeb\n",
      "Welcome to SMIT: Ijlal\n"
     ]
    }
   ],
   "source": [
    "receptionist(['Rehan','Ahmed','Areeb','Ijlal'])"
   ]
  },
  {
   "cell_type": "code",
   "execution_count": 46,
   "id": "b6e1e570",
   "metadata": {},
   "outputs": [],
   "source": [
    "def receptionist(lst):\n",
    "    for guest in lst:\n",
    "        if guest =='Ali':\n",
    "            print(f\"Sir{guest} you are our special guest please have a seat in first row\")  \n",
    "        else:\n",
    "            print(f\"Welcome {guest} please have a seat\")\n",
    "    "
   ]
  },
  {
   "cell_type": "code",
   "execution_count": 48,
   "id": "49baace8",
   "metadata": {},
   "outputs": [
    {
     "name": "stdout",
     "output_type": "stream",
     "text": [
      "Welcome Rehan please have a seat\n",
      "Welcome Ahmed please have a seat\n",
      "Welcome Areeb please have a seat\n",
      "Welcome Ijlal please have a seat\n",
      "SirAli you are our special guets please have a seat in first row\n",
      "Welcome Nasir please have a seat\n",
      "Welcome Ahsun please have a seat\n"
     ]
    }
   ],
   "source": [
    "receptionist(['Rehan','Ahmed','Areeb','Ijlal','Ali', 'Nasir', 'Ahsun'])"
   ]
  },
  {
   "cell_type": "markdown",
   "id": "7ab60951",
   "metadata": {},
   "source": [
    "# Write a function that reads a string from keyboard and display:\n",
    "# * The number of uppercase letters in the string\n",
    "# * The number of lowercase letters in the string\n",
    "# * The number of digits in the string\n",
    "# * The number of whitespace characters in the string"
   ]
  },
  {
   "cell_type": "code",
   "execution_count": 55,
   "id": "374e58b6",
   "metadata": {},
   "outputs": [],
   "source": [
    "def string_analyzer(txt):\n",
    "    upper = 0\n",
    "    lower = 0\n",
    "    digit = 0\n",
    "    whitespace = 0 \n",
    "    others = 0\n",
    "    for char in txt:\n",
    "        if char.isupper():\n",
    "            upper +=1\n",
    "        elif char.islower():\n",
    "            lower +=1\n",
    "        elif char.isdigit():\n",
    "            digit +=1\n",
    "        elif char.isspace():\n",
    "            whitespace +=1\n",
    "        else:\n",
    "            others +=1\n",
    "    print(f\"\"\"\n",
    "         Upper Case : {upper}\n",
    "         Lower Case : {lower}\n",
    "         Digit      : {digit}\n",
    "         WhiteSpace : {whitespace}\n",
    "         Others     : {others }\n",
    "         \"\"\")       "
   ]
  },
  {
   "cell_type": "code",
   "execution_count": 57,
   "id": "b9709f45",
   "metadata": {},
   "outputs": [
    {
     "name": "stdout",
     "output_type": "stream",
     "text": [
      "\n",
      "         Upper Case : 8\n",
      "         Lower Case : 395\n",
      "         Digit      : 5\n",
      "         WhiteSpace : 80\n",
      "         Others     : 10\n",
      "         \n"
     ]
    }
   ],
   "source": [
    "string_analyzer(\"React, the most popular JavaScript library, has emerged as the preferred option among developers for56 creating 67reliable online apps, primarily 6  because React allows the creation of single-page dynamic applications.With this bootcamp, you'll gain an understanding of the fundamentals of React and how you can start using it in your projects today. You will also learn how to use React in your web apps, so that you can build powerful and flexible user interfaces that are also easy to maintain.\")"
   ]
  },
  {
   "cell_type": "code",
   "execution_count": 68,
   "id": "67d594be",
   "metadata": {},
   "outputs": [],
   "source": [
    "def string_analyzer(txt):\n",
    "    upper = 0\n",
    "    lower = 0\n",
    "    digit = 0\n",
    "    whitespace = 0 \n",
    "    others = 0\n",
    "    for char in txt:\n",
    "        if char.isupper():\n",
    "            upper +=1\n",
    "        elif char.islower():\n",
    "            lower +=1\n",
    "        elif char.isdigit():\n",
    "            digit +=1\n",
    "        elif char.isspace():\n",
    "            whitespace +=1\n",
    "        else:\n",
    "            others +=1\n",
    "    print(f\"\"\"\n",
    "        Total Char  : {len(txt)-others-whitespace}\n",
    "         Upper Case : {upper}\n",
    "         Lower Case : {lower}\n",
    "         Digit      : {digit}\n",
    "         WhiteSpace : {whitespace}\n",
    "         Others     : {others }\n",
    "         \"\"\")       "
   ]
  },
  {
   "cell_type": "code",
   "execution_count": 69,
   "id": "9405d9b4",
   "metadata": {},
   "outputs": [
    {
     "name": "stdout",
     "output_type": "stream",
     "text": [
      "\n",
      "        Total Char  : 408\n",
      "         Upper Case : 8\n",
      "         Lower Case : 395\n",
      "         Digit      : 5\n",
      "         WhiteSpace : 80\n",
      "         Others     : 10\n",
      "         \n"
     ]
    }
   ],
   "source": [
    "string_analyzer(\"React, the most popular JavaScript library, has emerged as the preferred option among developers for56 creating 67reliable online apps, primarily 6  because React allows the creation of single-page dynamic applications.With this bootcamp, you'll gain an understanding of the fundamentals of React and how you can start using it in your projects today. You will also learn how to use React in your web apps, so that you can build powerful and flexible user interfaces that are also easy to maintain.\")"
   ]
  },
  {
   "cell_type": "code",
   "execution_count": 73,
   "id": "0d913705",
   "metadata": {},
   "outputs": [],
   "source": [
    "def words_counter(para):\n",
    "    words = 0\n",
    "    for c in para:\n",
    "        if c.isspace():\n",
    "            words+=1\n",
    "    print(f\"Total words are : {words+1}\")  "
   ]
  },
  {
   "cell_type": "code",
   "execution_count": 74,
   "id": "77fe0f19",
   "metadata": {},
   "outputs": [
    {
     "name": "stdout",
     "output_type": "stream",
     "text": [
      "Total words are : 4\n"
     ]
    }
   ],
   "source": [
    "words_counter('Hello how are you?')"
   ]
  },
  {
   "cell_type": "code",
   "execution_count": 85,
   "id": "91e1f725",
   "metadata": {},
   "outputs": [],
   "source": [
    "def words_counter(para):   \n",
    "    print(f\"Total words are : {len(para.split(' '))}\")  "
   ]
  },
  {
   "cell_type": "code",
   "execution_count": 86,
   "id": "c3d114e0",
   "metadata": {},
   "outputs": [
    {
     "name": "stdout",
     "output_type": "stream",
     "text": [
      "Total words are : 4\n"
     ]
    }
   ],
   "source": [
    "words_counter('Hello how are you?')"
   ]
  },
  {
   "cell_type": "code",
   "execution_count": null,
   "id": "a1b0cf3d",
   "metadata": {},
   "outputs": [],
   "source": []
  }
 ],
 "metadata": {
  "kernelspec": {
   "display_name": "Python 3 (ipykernel)",
   "language": "python",
   "name": "python3"
  },
  "language_info": {
   "codemirror_mode": {
    "name": "ipython",
    "version": 3
   },
   "file_extension": ".py",
   "mimetype": "text/x-python",
   "name": "python",
   "nbconvert_exporter": "python",
   "pygments_lexer": "ipython3",
   "version": "3.11.5"
  }
 },
 "nbformat": 4,
 "nbformat_minor": 5
}
